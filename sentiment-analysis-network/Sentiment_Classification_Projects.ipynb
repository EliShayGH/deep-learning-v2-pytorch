{
  "nbformat": 4,
  "nbformat_minor": 0,
  "metadata": {
    "colab": {
      "name": "Sentiment_Classification_Projects.ipynb",
      "version": "0.3.2",
      "provenance": []
    },
    "language_info": {
      "codemirror_mode": {
        "name": "ipython",
        "version": 3
      },
      "file_extension": ".py",
      "mimetype": "text/x-python",
      "name": "python",
      "nbconvert_exporter": "python",
      "pygments_lexer": "ipython3",
      "version": "3.6.5"
    },
    "kernelspec": {
      "display_name": "conda_python3",
      "language": "python",
      "name": "conda_python3"
    },
    "accelerator": "GPU"
  },
  "cells": [
    {
      "cell_type": "markdown",
      "metadata": {
        "id": "J5h6vVQBaipo",
        "colab_type": "text"
      },
      "source": [
        "# Sentiment Classification & How To \"Frame Problems\" for a Neural Network\n",
        "\n",
        "by Andrew Trask\n",
        "\n",
        "- **Twitter**: @iamtrask\n",
        "- **Blog**: http://iamtrask.github.io"
      ]
    },
    {
      "cell_type": "markdown",
      "metadata": {
        "id": "F9nmC2vza7Ig",
        "colab_type": "text"
      },
      "source": [
        "[![Open In Colab](https://colab.research.google.com/assets/colab-badge.svg)](https://colab.research.google.com/github/EliShayGH/deep-learning-v2-pytorch/blob/master/sentiment-analysis-network/Sentiment_Classification_Projects.ipynb)"
      ]
    },
    {
      "cell_type": "markdown",
      "metadata": {
        "id": "c7DyIJBjaipq",
        "colab_type": "text"
      },
      "source": [
        "### What You Should Already Know\n",
        "\n",
        "- neural networks, forward and back-propagation\n",
        "- stochastic gradient descent\n",
        "- mean squared error\n",
        "- and train/test splits\n",
        "\n",
        "### Where to Get Help if You Need it\n",
        "- Re-watch previous Udacity Lectures\n",
        "- Leverage the recommended Course Reading Material - [Grokking Deep Learning](https://www.manning.com/books/grokking-deep-learning) (Check inside your classroom for a discount code)\n",
        "- Shoot me a tweet @iamtrask\n",
        "\n",
        "\n",
        "### Tutorial Outline:\n",
        "\n",
        "- Intro: The Importance of \"Framing a Problem\" (this lesson)\n",
        "\n",
        "- [Curate a Dataset](#lesson_1)\n",
        "- [Developing a \"Predictive Theory\"](#lesson_2)\n",
        "- [**PROJECT 1**: Quick Theory Validation](#project_1)\n",
        "\n",
        "\n",
        "- [Transforming Text to Numbers](#lesson_3)\n",
        "- [**PROJECT 2**: Creating the Input/Output Data](#project_2)\n",
        "\n",
        "\n",
        "- Putting it all together in a Neural Network (video only - nothing in notebook)\n",
        "- [**PROJECT 3**: Building our Neural Network](#project_3)\n",
        "\n",
        "\n",
        "- [Understanding Neural Noise](#lesson_4)\n",
        "- [**PROJECT 4**: Making Learning Faster by Reducing Noise](#project_4)\n",
        "\n",
        "\n",
        "- [Analyzing Inefficiencies in our Network](#lesson_5)\n",
        "- [**PROJECT 5**: Making our Network Train and Run Faster](#project_5)\n",
        "\n",
        "\n",
        "- [Further Noise Reduction](#lesson_6)\n",
        "- [**PROJECT 6**: Reducing Noise by Strategically Reducing the Vocabulary](#project_6)\n",
        "\n",
        "\n",
        "- [Analysis: What's going on in the weights?](#lesson_7)"
      ]
    },
    {
      "cell_type": "markdown",
      "metadata": {
        "nbpresent": {
          "id": "56bb3cba-260c-4ebe-9ed6-b995b4c72aa3"
        },
        "id": "fBXMVTLIaips",
        "colab_type": "text"
      },
      "source": [
        "# Lesson: Curate a Dataset<a id='lesson_1'></a>\n",
        "The cells from here until Project 1 include code Andrew shows in the videos leading up to mini project 1. We've included them so you can run the code along with the videos without having to type in everything."
      ]
    },
    {
      "cell_type": "code",
      "metadata": {
        "id": "tDQQg2dEA2eY",
        "colab_type": "code",
        "colab": {
          "base_uri": "https://localhost:8080/",
          "height": 153
        },
        "outputId": "94fb4961-1be8-4024-d4ee-2b7dc1790b30"
      },
      "source": [
        "#For google colab purpose \n",
        "!git clone https://github.com/EliShayGH/deep-learning-v2-pytorch.git\n",
        "!cp deep-learning-v2-pytorch/sentiment-analysis-network/*.txt ./\n",
        "!cp deep-learning-v2-pytorch/sentiment-analysis-network/*.png ./"
      ],
      "execution_count": 1,
      "outputs": [
        {
          "output_type": "stream",
          "text": [
            "Cloning into 'deep-learning-v2-pytorch'...\n",
            "remote: Enumerating objects: 8, done.\u001b[K\n",
            "remote: Counting objects:  12% (1/8)   \u001b[K\rremote: Counting objects:  25% (2/8)   \u001b[K\rremote: Counting objects:  37% (3/8)   \u001b[K\rremote: Counting objects:  50% (4/8)   \u001b[K\rremote: Counting objects:  62% (5/8)   \u001b[K\rremote: Counting objects:  75% (6/8)   \u001b[K\rremote: Counting objects:  87% (7/8)   \u001b[K\rremote: Counting objects: 100% (8/8)   \u001b[K\rremote: Counting objects: 100% (8/8), done.\u001b[K\n",
            "remote: Compressing objects: 100% (8/8), done.\u001b[K\n",
            "remote: Total 1110 (delta 3), reused 0 (delta 0), pack-reused 1102\n",
            "Receiving objects: 100% (1110/1110), 139.05 MiB | 8.78 MiB/s, done.\n",
            "Resolving deltas: 100% (486/486), done.\n",
            "Checking out files: 100% (270/270), done.\n"
          ],
          "name": "stdout"
        }
      ]
    },
    {
      "cell_type": "code",
      "metadata": {
        "nbpresent": {
          "id": "eba2b193-0419-431e-8db9-60f34dd3fe83"
        },
        "id": "iYCa5QYiaipt",
        "colab_type": "code",
        "colab": {}
      },
      "source": [
        "def pretty_print_review_and_label(i):\n",
        "    print(labels[i] + \"\\t:\\t\" + reviews[i][:80] + \"...\")\n",
        "\n",
        "g = open('reviews.txt','r') # What we know!\n",
        "reviews = list(map(lambda x:x[:-1],g.readlines()))\n",
        "g.close()\n",
        "\n",
        "g = open('labels.txt','r') # What we WANT to know!\n",
        "labels = list(map(lambda x:x[:-1].upper(),g.readlines()))\n",
        "g.close()"
      ],
      "execution_count": 0,
      "outputs": []
    },
    {
      "cell_type": "markdown",
      "metadata": {
        "id": "8ciEmYawaipy",
        "colab_type": "text"
      },
      "source": [
        "**Note:** The data in `reviews.txt` we're using has already been preprocessed a bit and contains only lower case characters. If we were working from raw data, where we didn't know it was all lower case, we would want to add a step here to convert it. That's so we treat different variations of the same word, like `The`, `the`, and `THE`, all the same way."
      ]
    },
    {
      "cell_type": "code",
      "metadata": {
        "id": "HMg6uW4Vaipz",
        "colab_type": "code",
        "outputId": "eef11696-60bb-491a-c4de-308dc168f1c8",
        "colab": {
          "base_uri": "https://localhost:8080/",
          "height": 34
        }
      },
      "source": [
        "len(reviews)"
      ],
      "execution_count": 3,
      "outputs": [
        {
          "output_type": "execute_result",
          "data": {
            "text/plain": [
              "25000"
            ]
          },
          "metadata": {
            "tags": []
          },
          "execution_count": 3
        }
      ]
    },
    {
      "cell_type": "code",
      "metadata": {
        "nbpresent": {
          "id": "bb95574b-21a0-4213-ae50-34363cf4f87f"
        },
        "id": "a52UfHEGaip5",
        "colab_type": "code",
        "outputId": "56816974-edbc-402b-f618-f41cfe28020f",
        "colab": {
          "base_uri": "https://localhost:8080/",
          "height": 54
        }
      },
      "source": [
        "reviews[0]"
      ],
      "execution_count": 4,
      "outputs": [
        {
          "output_type": "execute_result",
          "data": {
            "text/plain": [
              "'bromwell high is a cartoon comedy . it ran at the same time as some other programs about school life  such as  teachers  . my   years in the teaching profession lead me to believe that bromwell high  s satire is much closer to reality than is  teachers  . the scramble to survive financially  the insightful students who can see right through their pathetic teachers  pomp  the pettiness of the whole situation  all remind me of the schools i knew and their students . when i saw the episode in which a student repeatedly tried to burn down the school  i immediately recalled . . . . . . . . . at . . . . . . . . . . high . a classic line inspector i  m here to sack one of your teachers . student welcome to bromwell high . i expect that many adults of my age think that bromwell high is far fetched . what a pity that it isn  t   '"
            ]
          },
          "metadata": {
            "tags": []
          },
          "execution_count": 4
        }
      ]
    },
    {
      "cell_type": "code",
      "metadata": {
        "nbpresent": {
          "id": "e0408810-c424-4ed4-afb9-1735e9ddbd0a"
        },
        "id": "TwvKE-X_aip9",
        "colab_type": "code",
        "outputId": "87a33c39-9628-439c-ec22-4b8da7223b77",
        "colab": {
          "base_uri": "https://localhost:8080/",
          "height": 34
        }
      },
      "source": [
        "labels[0]"
      ],
      "execution_count": 5,
      "outputs": [
        {
          "output_type": "execute_result",
          "data": {
            "text/plain": [
              "'POSITIVE'"
            ]
          },
          "metadata": {
            "tags": []
          },
          "execution_count": 5
        }
      ]
    },
    {
      "cell_type": "markdown",
      "metadata": {
        "id": "G1847vedaiqB",
        "colab_type": "text"
      },
      "source": [
        "# Lesson: Develop a Predictive Theory<a id='lesson_2'></a>"
      ]
    },
    {
      "cell_type": "code",
      "metadata": {
        "nbpresent": {
          "id": "e67a709f-234f-4493-bae6-4fb192141ee0"
        },
        "id": "GEBY0b_MaiqC",
        "colab_type": "code",
        "outputId": "48ac505c-91b0-4172-f7d8-e721b48096a7",
        "colab": {
          "base_uri": "https://localhost:8080/",
          "height": 0
        }
      },
      "source": [
        "print(\"labels.txt \\t: \\t reviews.txt\\n\")\n",
        "pretty_print_review_and_label(2137)\n",
        "pretty_print_review_and_label(12816)\n",
        "pretty_print_review_and_label(6267)\n",
        "pretty_print_review_and_label(21934)\n",
        "pretty_print_review_and_label(5297)\n",
        "pretty_print_review_and_label(4998)"
      ],
      "execution_count": 6,
      "outputs": [
        {
          "output_type": "stream",
          "text": [
            "labels.txt \t: \t reviews.txt\n",
            "\n",
            "NEGATIVE\t:\tthis movie is terrible but it has some good effects .  ...\n",
            "POSITIVE\t:\tadrian pasdar is excellent is this film . he makes a fascinating woman .  ...\n",
            "NEGATIVE\t:\tcomment this movie is impossible . is terrible  very improbable  bad interpretat...\n",
            "POSITIVE\t:\texcellent episode movie ala pulp fiction .  days   suicides . it doesnt get more...\n",
            "NEGATIVE\t:\tif you haven  t seen this  it  s terrible . it is pure trash . i saw this about ...\n",
            "POSITIVE\t:\tthis schiffer guy is a real genius  the movie is of excellent quality and both e...\n"
          ],
          "name": "stdout"
        }
      ]
    },
    {
      "cell_type": "markdown",
      "metadata": {
        "id": "D6SGuFf3aiqH",
        "colab_type": "text"
      },
      "source": [
        "# Project 1: Quick Theory Validation<a id='project_1'></a>\n",
        "\n",
        "There are multiple ways to implement these projects, but in order to get your code closer to what Andrew shows in his solutions, we've provided some hints and starter code throughout this notebook.\n",
        "\n",
        "You'll find the [Counter](https://docs.python.org/2/library/collections.html#collections.Counter) class to be useful in this exercise, as well as the [numpy](https://docs.scipy.org/doc/numpy/reference/) library."
      ]
    },
    {
      "cell_type": "code",
      "metadata": {
        "id": "rwmGF-dZaiqI",
        "colab_type": "code",
        "colab": {}
      },
      "source": [
        "from collections import Counter\n",
        "import numpy as np"
      ],
      "execution_count": 0,
      "outputs": []
    },
    {
      "cell_type": "markdown",
      "metadata": {
        "id": "j1ApuOU6aiqK",
        "colab_type": "text"
      },
      "source": [
        "We'll create three `Counter` objects, one for words from postive reviews, one for words from negative reviews, and one for all the words."
      ]
    },
    {
      "cell_type": "code",
      "metadata": {
        "id": "A4NdfgOoaiqL",
        "colab_type": "code",
        "colab": {}
      },
      "source": [
        "# Create three Counter objects to store positive, negative and total counts\n",
        "positive_counts = Counter()\n",
        "negative_counts = Counter()\n",
        "total_counts = Counter()"
      ],
      "execution_count": 0,
      "outputs": []
    },
    {
      "cell_type": "markdown",
      "metadata": {
        "id": "IeROTyD7aiqO",
        "colab_type": "text"
      },
      "source": [
        "**TODO:** Examine all the reviews. For each word in a positive review, increase the count for that word in both your positive counter and the total words counter; likewise, for each word in a negative review, increase the count for that word in both your negative counter and the total words counter.\n",
        "\n",
        "**Note:** Throughout these projects, you should use `split(' ')` to divide a piece of text (such as a review) into individual words. If you use `split()` instead, you'll get slightly different results than what the videos and solutions show."
      ]
    },
    {
      "cell_type": "code",
      "metadata": {
        "id": "cHjJO19gaiqO",
        "colab_type": "code",
        "colab": {}
      },
      "source": [
        "# TODO: Loop over all the words in all the reviews and increment the counts in the appropriate counter objects\n",
        "for i in range(len(reviews)):\n",
        "    if(labels[i] == 'POSITIVE'):\n",
        "        for word in reviews[i].split(' '):\n",
        "            positive_counts[word] += 1\n",
        "            total_counts[word] += 1\n",
        "    else:\n",
        "        for word in reviews[i].split(' '):\n",
        "            negative_counts[word] += 1\n",
        "            total_counts[word] += 1"
      ],
      "execution_count": 0,
      "outputs": []
    },
    {
      "cell_type": "markdown",
      "metadata": {
        "id": "-wEZ_YOQaiqR",
        "colab_type": "text"
      },
      "source": [
        "Run the following two cells to list the words used in positive reviews and negative reviews, respectively, ordered from most to least commonly used. "
      ]
    },
    {
      "cell_type": "code",
      "metadata": {
        "id": "Vw4HpkHqaiqS",
        "colab_type": "code",
        "outputId": "2aafc0e9-a45e-490a-8759-38b8cd2df339",
        "colab": {
          "base_uri": "https://localhost:8080/",
          "height": 0
        }
      },
      "source": [
        "# Examine the counts of the most common words in positive reviews\n",
        "positive_counts.most_common()[:10]"
      ],
      "execution_count": 10,
      "outputs": [
        {
          "output_type": "execute_result",
          "data": {
            "text/plain": [
              "[('', 550468),\n",
              " ('the', 173324),\n",
              " ('.', 159654),\n",
              " ('and', 89722),\n",
              " ('a', 83688),\n",
              " ('of', 76855),\n",
              " ('to', 66746),\n",
              " ('is', 57245),\n",
              " ('in', 50215),\n",
              " ('br', 49235)]"
            ]
          },
          "metadata": {
            "tags": []
          },
          "execution_count": 10
        }
      ]
    },
    {
      "cell_type": "code",
      "metadata": {
        "id": "uUIbBOk6aiqV",
        "colab_type": "code",
        "outputId": "96a7af09-4824-4e98-c8c7-9ecca145cc53",
        "colab": {
          "base_uri": "https://localhost:8080/",
          "height": 0
        }
      },
      "source": [
        "# Examine the counts of the most common words in negative reviews\n",
        "negative_counts.most_common()[:10]"
      ],
      "execution_count": 11,
      "outputs": [
        {
          "output_type": "execute_result",
          "data": {
            "text/plain": [
              "[('', 561462),\n",
              " ('.', 167538),\n",
              " ('the', 163389),\n",
              " ('a', 79321),\n",
              " ('and', 74385),\n",
              " ('of', 69009),\n",
              " ('to', 68974),\n",
              " ('br', 52637),\n",
              " ('is', 50083),\n",
              " ('it', 48327)]"
            ]
          },
          "metadata": {
            "tags": []
          },
          "execution_count": 11
        }
      ]
    },
    {
      "cell_type": "markdown",
      "metadata": {
        "id": "O9wPJF1baiqZ",
        "colab_type": "text"
      },
      "source": [
        "As you can see, common words like \"the\" appear very often in both positive and negative reviews. Instead of finding the most common words in positive or negative reviews, what you really want are the words found in positive reviews more often than in negative reviews, and vice versa. To accomplish this, you'll need to calculate the **ratios** of word usage between positive and negative reviews.\n",
        "\n",
        "**TODO:** Check all the words you've seen and calculate the ratio of postive to negative uses and store that ratio in `pos_neg_ratios`. \n",
        ">Hint: the positive-to-negative ratio for a given word can be calculated with `positive_counts[word] / float(negative_counts[word]+1)`. Notice the `+1` in the denominator – that ensures we don't divide by zero for words that are only seen in positive reviews."
      ]
    },
    {
      "cell_type": "code",
      "metadata": {
        "id": "8Khm_Swwaiqa",
        "colab_type": "code",
        "colab": {}
      },
      "source": [
        "# Create Counter object to store positive/negative ratios\n",
        "pos_neg_ratios = Counter()\n",
        "\n",
        "# TODO: Calculate the ratios of positive and negative uses of the most common words\n",
        "#       Consider words to be \"common\" if they've been used at least 100 times\n",
        "for word, count in list(total_counts.most_common()):\n",
        "    if(count > 100):\n",
        "        pos_neg_ratios[word] = positive_counts[word] / float(negative_counts[word] + 1)"
      ],
      "execution_count": 0,
      "outputs": []
    },
    {
      "cell_type": "markdown",
      "metadata": {
        "id": "xA8e0303aiqc",
        "colab_type": "text"
      },
      "source": [
        "Examine the ratios you've calculated for a few words:"
      ]
    },
    {
      "cell_type": "code",
      "metadata": {
        "id": "XqLFc8-5aiqd",
        "colab_type": "code",
        "outputId": "6210e48b-fcc4-4772-9b91-ac34ab9fc71f",
        "colab": {
          "base_uri": "https://localhost:8080/",
          "height": 0
        }
      },
      "source": [
        "print(\"Pos-to-neg ratio for 'the' = {}\".format(pos_neg_ratios[\"the\"]))\n",
        "print(\"Pos-to-neg ratio for 'amazing' = {}\".format(pos_neg_ratios[\"amazing\"]))\n",
        "print(\"Pos-to-neg ratio for 'terrible' = {}\".format(pos_neg_ratios[\"terrible\"]))"
      ],
      "execution_count": 13,
      "outputs": [
        {
          "output_type": "stream",
          "text": [
            "Pos-to-neg ratio for 'the' = 1.0607993145235326\n",
            "Pos-to-neg ratio for 'amazing' = 4.022813688212928\n",
            "Pos-to-neg ratio for 'terrible' = 0.17744252873563218\n"
          ],
          "name": "stdout"
        }
      ]
    },
    {
      "cell_type": "markdown",
      "metadata": {
        "id": "5gfxlK1Kaiqh",
        "colab_type": "text"
      },
      "source": [
        "Looking closely at the values you just calculated, we see the following:\n",
        "\n",
        "* Words that you would expect to see more often in positive reviews – like \"amazing\" – have a ratio greater than 1. The more skewed a word is toward postive, the farther from 1 its positive-to-negative ratio  will be.\n",
        "* Words that you would expect to see more often in negative reviews – like \"terrible\" – have positive values that are less than 1. The more skewed a word is toward negative, the closer to zero its positive-to-negative ratio will be.\n",
        "* Neutral words, which don't really convey any sentiment because you would expect to see them in all sorts of reviews – like \"the\" – have values very close to 1. A perfectly neutral word – one that was used in exactly the same number of positive reviews as negative reviews – would be almost exactly 1. The `+1` we suggested you add to the denominator slightly biases words toward negative, but it won't matter because it will be a tiny bias and later we'll be ignoring words that are too close to neutral anyway.\n",
        "\n",
        "Ok, the ratios tell us which words are used more often in postive or negative reviews, but the specific values we've calculated are a bit difficult to work with. A very positive word like \"amazing\" has a value above 4, whereas a very negative word like \"terrible\" has a value around 0.18. Those values aren't easy to compare for a couple of reasons:\n",
        "\n",
        "* Right now, 1 is considered neutral, but the absolute value of the postive-to-negative rations of very postive words is larger than the absolute value of the ratios for the very negative words. So there is no way to directly compare two numbers and see if one word conveys the same magnitude of positive sentiment as another word conveys negative sentiment. So we should center all the values around netural so the absolute value fro neutral of the postive-to-negative ratio for a word would indicate how much sentiment (positive or negative) that word conveys.\n",
        "* When comparing absolute values it's easier to do that around zero than one. \n",
        "\n",
        "To fix these issues, we'll convert all of our ratios to new values using logarithms.\n",
        "\n",
        "**TODO:** Go through all the ratios you calculated and convert them to logarithms. (i.e. use `np.log(ratio)`)\n",
        "\n",
        "In the end, extremely positive and extremely negative words will have positive-to-negative ratios with similar magnitudes but opposite signs."
      ]
    },
    {
      "cell_type": "code",
      "metadata": {
        "id": "y4_16W1Naiqi",
        "colab_type": "code",
        "colab": {}
      },
      "source": [
        "# TODO: Convert ratios to logs\n",
        "for word, ratio in pos_neg_ratios.most_common():\n",
        "    if(ratio > 1):\n",
        "        pos_neg_ratios[word] = np.log(ratio)\n",
        "    else:\n",
        "        pos_neg_ratios[word] = -np.log(1 / (ratio + 0.001))"
      ],
      "execution_count": 0,
      "outputs": []
    },
    {
      "cell_type": "markdown",
      "metadata": {
        "id": "qzL-6IwBaiqk",
        "colab_type": "text"
      },
      "source": [
        "Examine the new ratios you've calculated for the same words from before:"
      ]
    },
    {
      "cell_type": "code",
      "metadata": {
        "id": "D8XDmFAnaiqm",
        "colab_type": "code",
        "outputId": "0c45eab4-16ac-4bd8-a440-34b0467d9c99",
        "colab": {
          "base_uri": "https://localhost:8080/",
          "height": 0
        }
      },
      "source": [
        "print(\"Pos-to-neg ratio for 'the' = {}\".format(pos_neg_ratios[\"the\"]))\n",
        "print(\"Pos-to-neg ratio for 'amazing' = {}\".format(pos_neg_ratios[\"amazing\"]))\n",
        "print(\"Pos-to-neg ratio for 'terrible' = {}\".format(pos_neg_ratios[\"terrible\"]))"
      ],
      "execution_count": 15,
      "outputs": [
        {
          "output_type": "stream",
          "text": [
            "Pos-to-neg ratio for 'the' = 0.05902269426102881\n",
            "Pos-to-neg ratio for 'amazing' = 1.3919815802404802\n",
            "Pos-to-neg ratio for 'terrible' = -1.723488697472832\n"
          ],
          "name": "stdout"
        }
      ]
    },
    {
      "cell_type": "markdown",
      "metadata": {
        "id": "fBVzPSdDaiqs",
        "colab_type": "text"
      },
      "source": [
        "If everything worked, now you should see neutral words with values close to zero. In this case, \"the\" is near zero but slightly positive, so it was probably used in more positive reviews than negative reviews. But look at \"amazing\"'s ratio - it's above `1`, showing it is clearly a word with positive sentiment. And \"terrible\" has a similar score, but in the opposite direction, so it's below `-1`. It's now clear that both of these words are associated with specific, opposing sentiments.\n",
        "\n",
        "Now run the following cells to see more ratios. \n",
        "\n",
        "The first cell displays all the words, ordered by how associated they are with postive reviews. (Your notebook will most likely truncate the output so you won't actually see *all* the words in the list.)\n",
        "\n",
        "The second cell displays the 30 words most associated with negative reviews by reversing the order of the first list and then looking at the first 30 words. (If you want the second cell to display all the words, ordered by how associated they are with negative reviews, you could just write `reversed(pos_neg_ratios.most_common())`.)\n",
        "\n",
        "You should continue to see values similar to the earlier ones we checked – neutral words will be close to `0`, words will get more positive as their ratios approach and go above `1`, and words will get more negative as their ratios approach and go below `-1`. That's why we decided to use the logs instead of the raw ratios."
      ]
    },
    {
      "cell_type": "code",
      "metadata": {
        "id": "5J_o2Hmxaiqu",
        "colab_type": "code",
        "outputId": "c26ad620-d129-4a3b-b50d-ae5318944256",
        "colab": {
          "base_uri": "https://localhost:8080/",
          "height": 0
        }
      },
      "source": [
        "# words most frequently seen in a review with a \"POSITIVE\" label\n",
        "pos_neg_ratios.most_common()[:30]"
      ],
      "execution_count": 16,
      "outputs": [
        {
          "output_type": "execute_result",
          "data": {
            "text/plain": [
              "[('edie', 4.6913478822291435),\n",
              " ('paulie', 4.07753744390572),\n",
              " ('felix', 3.152736022363656),\n",
              " ('polanski', 2.8233610476132043),\n",
              " ('matthau', 2.80672172860924),\n",
              " ('victoria', 2.681021528714291),\n",
              " ('mildred', 2.6026896854443837),\n",
              " ('gandhi', 2.538973871058276),\n",
              " ('flawless', 2.451005098112319),\n",
              " ('superbly', 2.26002547857525),\n",
              " ('perfection', 2.159484249353372),\n",
              " ('astaire', 2.1400661634962708),\n",
              " ('captures', 2.038619547159581),\n",
              " ('voight', 2.030170492673053),\n",
              " ('wonderfully', 2.0218960560332353),\n",
              " ('powell', 1.978345424808467),\n",
              " ('brosnan', 1.9547990964725592),\n",
              " ('lily', 1.9203768470501485),\n",
              " ('bakshi', 1.9029851043382795),\n",
              " ('lincoln', 1.9014583864844796),\n",
              " ('refreshing', 1.8551812956655511),\n",
              " ('breathtaking', 1.8481124057791867),\n",
              " ('bourne', 1.8478489358790986),\n",
              " ('lemmon', 1.8458266904983307),\n",
              " ('delightful', 1.8002701588959635),\n",
              " ('flynn', 1.7996646487351682),\n",
              " ('andrews', 1.7764919970972666),\n",
              " ('homer', 1.7692866133759964),\n",
              " ('beautifully', 1.7626953362841438),\n",
              " ('soccer', 1.7578579175523736)]"
            ]
          },
          "metadata": {
            "tags": []
          },
          "execution_count": 16
        }
      ]
    },
    {
      "cell_type": "code",
      "metadata": {
        "id": "eQgoNRNaaiq3",
        "colab_type": "code",
        "outputId": "db0f2dd9-09d7-4be4-afd2-7f99943e2e13",
        "colab": {
          "base_uri": "https://localhost:8080/",
          "height": 0
        }
      },
      "source": [
        "# words most frequently seen in a review with a \"NEGATIVE\" label\n",
        "list(reversed(pos_neg_ratios.most_common()))[0:30]\n",
        "\n",
        "# Note: Above is the code Andrew uses in his solution video, \n",
        "#       so we've included it here to avoid confusion.\n",
        "#       If you explore the documentation for the Counter class, \n",
        "#       you will see you could also find the 30 least common\n",
        "#       words like this: pos_neg_ratios.most_common()[:-31:-1]"
      ],
      "execution_count": 17,
      "outputs": [
        {
          "output_type": "execute_result",
          "data": {
            "text/plain": [
              "[('boll', -4.835282406618394),\n",
              " ('uwe', -4.527846102553548),\n",
              " ('seagal', -3.606606956743819),\n",
              " ('unwatchable', -3.232428791272904),\n",
              " ('stinker', -3.1843768086123894),\n",
              " ('mst', -2.931339111817795),\n",
              " ('incoherent', -2.918210222585477),\n",
              " ('unfunny', -2.677582826320177),\n",
              " ('waste', -2.6057506568316997),\n",
              " ('blah', -2.5574420885289504),\n",
              " ('horrid', -2.4729780789227265),\n",
              " ('pointless', -2.443723518768643),\n",
              " ('atrocious', -2.4146593168481547),\n",
              " ('redeeming', -2.3576171050548607),\n",
              " ('prom', -2.35030978724235),\n",
              " ('drivel', -2.33663658094709),\n",
              " ('lousy', -2.2975727999267512),\n",
              " ('worst', -2.2771908066767406),\n",
              " ('laughable', -2.2547849053935245),\n",
              " ('awful', -2.2179631752505466),\n",
              " ('poorly', -2.2115829815780015),\n",
              " ('wasting', -2.1955788734265296),\n",
              " ('remotely', -2.1882648359647474),\n",
              " ('existent', -2.0714733720306593),\n",
              " ('boredom', -1.987774353154012),\n",
              " ('miserably', -1.9851235895077681),\n",
              " ('sucks', -1.9798005773223373),\n",
              " ('uninspired', -1.9760572894714397),\n",
              " ('lame', -1.9745380983043672),\n",
              " ('insult', -1.9711406722511042)]"
            ]
          },
          "metadata": {
            "tags": []
          },
          "execution_count": 17
        }
      ]
    },
    {
      "cell_type": "markdown",
      "metadata": {
        "id": "NnYeT6jUaiq_",
        "colab_type": "text"
      },
      "source": [
        "# End of Project 1. \n",
        "## Watch the next video to see Andrew's solution, then continue on to the next lesson.\n",
        "\n",
        "# Transforming Text into Numbers<a id='lesson_3'></a>\n",
        "The cells here include code Andrew shows in the next video. We've included it so you can run the code along with the video without having to type in everything."
      ]
    },
    {
      "cell_type": "code",
      "metadata": {
        "id": "yQ6V7Q25airA",
        "colab_type": "code",
        "outputId": "52cfc9a0-5504-4b1e-cdcf-62c37ecb394c",
        "colab": {
          "base_uri": "https://localhost:8080/",
          "height": 0
        }
      },
      "source": [
        "from IPython.display import Image\n",
        "\n",
        "review = \"This was a horrible, terrible movie.\"\n",
        "\n",
        "Image(filename='sentiment_network.png')"
      ],
      "execution_count": 18,
      "outputs": [
        {
          "output_type": "execute_result",
          "data": {
            "image/png": "[encoded data removed]",
            "text/plain": [
              "<IPython.core.display.Image object>"
            ]
          },
          "metadata": {
            "tags": []
          },
          "execution_count": 18
        }
      ]
    },
    {
      "cell_type": "code",
      "metadata": {
        "id": "CMsgHsQzairE",
        "colab_type": "code",
        "outputId": "814dbd56-5bb5-42f5-daf0-7d281f060a14",
        "colab": {
          "base_uri": "https://localhost:8080/",
          "height": 0
        }
      },
      "source": [
        "review = \"The movie was excellent\"\n",
        "\n",
        "Image(filename='sentiment_network_pos.png')"
      ],
      "execution_count": 19,
      "outputs": [
        {
          "output_type": "execute_result",
          "data": {
            "image/png": "[encoded data removed]",
            "text/plain": [
              "<IPython.core.display.Image object>"
            ]
          },
          "metadata": {
            "tags": []
          },
          "execution_count": 19
        }
      ]
    },
    {
      "cell_type": "markdown",
      "metadata": {
        "id": "vvK3l3MZairI",
        "colab_type": "text"
      },
      "source": [
        "# Project 2: Creating the Input/Output Data<a id='project_2'></a>\n",
        "\n",
        "**TODO:** Create a [set](https://docs.python.org/3/tutorial/datastructures.html#sets) named `vocab` that contains every word in the vocabulary."
      ]
    },
    {
      "cell_type": "code",
      "metadata": {
        "id": "Rlph9X-bairJ",
        "colab_type": "code",
        "colab": {}
      },
      "source": [
        "# TODO: Create set named \"vocab\" containing all of the words from all of the reviews\n",
        "vocab = set(total_counts.keys())"
      ],
      "execution_count": 0,
      "outputs": []
    },
    {
      "cell_type": "markdown",
      "metadata": {
        "id": "bPXk0pj9airN",
        "colab_type": "text"
      },
      "source": [
        "Run the following cell to check your vocabulary size. If everything worked correctly, it should print **74074**"
      ]
    },
    {
      "cell_type": "code",
      "metadata": {
        "id": "hmuMmV1jairN",
        "colab_type": "code",
        "outputId": "97bceb1d-1a1f-48d8-94e8-7c010173d82f",
        "colab": {
          "base_uri": "https://localhost:8080/",
          "height": 0
        }
      },
      "source": [
        "vocab_size = len(vocab)\n",
        "print(vocab_size)"
      ],
      "execution_count": 21,
      "outputs": [
        {
          "output_type": "stream",
          "text": [
            "74074\n"
          ],
          "name": "stdout"
        }
      ]
    },
    {
      "cell_type": "markdown",
      "metadata": {
        "id": "denXiQf7airQ",
        "colab_type": "text"
      },
      "source": [
        "Take a look at the following image. It represents the layers of the neural network you'll be building throughout this notebook. `layer_0` is the input layer, `layer_1` is a hidden layer, and `layer_2` is the output layer."
      ]
    },
    {
      "cell_type": "code",
      "metadata": {
        "id": "i7TO0IHiairR",
        "colab_type": "code",
        "outputId": "ebbdb5e0-6c7f-4428-ee9d-9d0bc2d1d33f",
        "colab": {
          "base_uri": "https://localhost:8080/",
          "height": 0
        }
      },
      "source": [
        "from IPython.display import Image\n",
        "Image(filename='sentiment_network_2.png')"
      ],
      "execution_count": 22,
      "outputs": [
        {
          "output_type": "execute_result",
          "data": {
            "image/png": "[encoded data removed]",
            "text/plain": [
              "<IPython.core.display.Image object>"
            ]
          },
          "metadata": {
            "tags": []
          },
          "execution_count": 22
        }
      ]
    },
    {
      "cell_type": "markdown",
      "metadata": {
        "id": "V2vtM1DMairV",
        "colab_type": "text"
      },
      "source": [
        "**TODO:** Create a numpy array called `layer_0` and initialize it to all zeros. You will find the [zeros](https://docs.scipy.org/doc/numpy/reference/generated/numpy.zeros.html) function particularly helpful here. Be sure you create `layer_0` as a 2-dimensional matrix with 1 row and `vocab_size` columns. "
      ]
    },
    {
      "cell_type": "code",
      "metadata": {
        "id": "_jMBzKinairW",
        "colab_type": "code",
        "colab": {}
      },
      "source": [
        "# TODO: Create layer_0 matrix with dimensions 1 by vocab_size, initially filled with zeros\n",
        "layer_0 = np.zeros((1, vocab_size))"
      ],
      "execution_count": 0,
      "outputs": []
    },
    {
      "cell_type": "markdown",
      "metadata": {
        "id": "KwdLEo0EairY",
        "colab_type": "text"
      },
      "source": [
        "Run the following cell. It should display `(1, 74074)`"
      ]
    },
    {
      "cell_type": "code",
      "metadata": {
        "id": "bQdJuai1airZ",
        "colab_type": "code",
        "outputId": "3741495c-07e0-4c3e-da9f-47f650a6c69d",
        "colab": {
          "base_uri": "https://localhost:8080/",
          "height": 0
        }
      },
      "source": [
        "layer_0.shape"
      ],
      "execution_count": 24,
      "outputs": [
        {
          "output_type": "execute_result",
          "data": {
            "text/plain": [
              "(1, 74074)"
            ]
          },
          "metadata": {
            "tags": []
          },
          "execution_count": 24
        }
      ]
    },
    {
      "cell_type": "code",
      "metadata": {
        "id": "WzeyprJZairc",
        "colab_type": "code",
        "outputId": "8b80ea50-59ba-41cc-ac3d-d125b104ec1d",
        "colab": {
          "base_uri": "https://localhost:8080/",
          "height": 0
        }
      },
      "source": [
        "from IPython.display import Image\n",
        "Image(filename='sentiment_network.png')"
      ],
      "execution_count": 25,
      "outputs": [
        {
          "output_type": "execute_result",
          "data": {
            "image/png": "[encoded data removed]",
            "text/plain": [
              "<IPython.core.display.Image object>"
            ]
          },
          "metadata": {
            "tags": []
          },
          "execution_count": 25
        }
      ]
    },
    {
      "cell_type": "markdown",
      "metadata": {
        "id": "bZC74gwdairg",
        "colab_type": "text"
      },
      "source": [
        "`layer_0` contains one entry for every word in the vocabulary, as shown in the above image. We need to make sure we know the index of each word, so run the following cell to create a lookup table that stores the index of every word."
      ]
    },
    {
      "cell_type": "code",
      "metadata": {
        "id": "XxGlXzuQairg",
        "colab_type": "code",
        "colab": {}
      },
      "source": [
        "# Create a dictionary of words in the vocabulary mapped to index positions\n",
        "# (to be used in layer_0)\n",
        "word2index = {}\n",
        "for i,word in enumerate(vocab):\n",
        "    word2index[word] = i\n",
        "    \n",
        "# display the map of words to indices\n",
        "word2index;"
      ],
      "execution_count": 0,
      "outputs": []
    },
    {
      "cell_type": "markdown",
      "metadata": {
        "id": "Dlg8BWeyairj",
        "colab_type": "text"
      },
      "source": [
        "**TODO:**  Complete the implementation of `update_input_layer`. It should count \n",
        "          how many times each word is used in the given review, and then store\n",
        "          those counts at the appropriate indices inside `layer_0`."
      ]
    },
    {
      "cell_type": "code",
      "metadata": {
        "id": "58BNRzX8airj",
        "colab_type": "code",
        "colab": {}
      },
      "source": [
        "def update_input_layer(review):\n",
        "    \"\"\" Modify the global layer_0 to represent the vector form of review.\n",
        "    The element at a given index of layer_0 should represent\n",
        "    how many times the given word occurs in the review.\n",
        "    Args:\n",
        "        review(string) - the string of the review\n",
        "    Returns:\n",
        "        None\n",
        "    \"\"\"\n",
        "    global layer_0\n",
        "    # clear out previous state by resetting the layer to be all 0s\n",
        "    layer_0 *= 0\n",
        "    \n",
        "    # TODO: count how many times each word is used in the given review and store the results in layer_0 \n",
        "    for word in review.split(' '):\n",
        "        layer_0[0][word2index[word]] += 1"
      ],
      "execution_count": 0,
      "outputs": []
    },
    {
      "cell_type": "markdown",
      "metadata": {
        "id": "nvtgGDu-airl",
        "colab_type": "text"
      },
      "source": [
        "Run the following cell to test updating the input layer with the first review. The indices assigned may not be the same as in the solution, but hopefully you'll see some non-zero values in `layer_0`.  "
      ]
    },
    {
      "cell_type": "code",
      "metadata": {
        "id": "eT3Z5Myoairl",
        "colab_type": "code",
        "outputId": "38efd8dc-8e33-4571-ed4d-5f07f8760504",
        "colab": {
          "base_uri": "https://localhost:8080/",
          "height": 0
        }
      },
      "source": [
        "update_input_layer(reviews[0])\n",
        "layer_0"
      ],
      "execution_count": 28,
      "outputs": [
        {
          "output_type": "execute_result",
          "data": {
            "text/plain": [
              "array([[18.,  0.,  0., ...,  0.,  0.,  0.]])"
            ]
          },
          "metadata": {
            "tags": []
          },
          "execution_count": 28
        }
      ]
    },
    {
      "cell_type": "markdown",
      "metadata": {
        "id": "st7bbcd-airo",
        "colab_type": "text"
      },
      "source": [
        "**TODO:** Complete the implementation of `get_target_for_labels`. It should return `0` or `1`, \n",
        "          depending on whether the given label is `NEGATIVE` or `POSITIVE`, respectively."
      ]
    },
    {
      "cell_type": "code",
      "metadata": {
        "id": "8SGCniWyairp",
        "colab_type": "code",
        "colab": {}
      },
      "source": [
        "def get_target_for_label(label):\n",
        "    \"\"\"Convert a label to `0` or `1`.\n",
        "    Args:\n",
        "        label(string) - Either \"POSITIVE\" or \"NEGATIVE\".\n",
        "    Returns:\n",
        "        `0` or `1`.\n",
        "    \"\"\"\n",
        "    # TODO: Your code here\n",
        "    if(label == 'POSITIVE'):\n",
        "        return 1\n",
        "    else:\n",
        "        return 0"
      ],
      "execution_count": 0,
      "outputs": []
    },
    {
      "cell_type": "markdown",
      "metadata": {
        "id": "w9cFybBaairq",
        "colab_type": "text"
      },
      "source": [
        "Run the following two cells. They should print out`'POSITIVE'` and `1`, respectively."
      ]
    },
    {
      "cell_type": "code",
      "metadata": {
        "id": "Mg-nGLfEairr",
        "colab_type": "code",
        "outputId": "97dc01ae-b1e4-45c7-a29e-89aeaf787dd8",
        "colab": {
          "base_uri": "https://localhost:8080/",
          "height": 0
        }
      },
      "source": [
        "labels[0]"
      ],
      "execution_count": 30,
      "outputs": [
        {
          "output_type": "execute_result",
          "data": {
            "text/plain": [
              "'POSITIVE'"
            ]
          },
          "metadata": {
            "tags": []
          },
          "execution_count": 30
        }
      ]
    },
    {
      "cell_type": "code",
      "metadata": {
        "id": "batBGaXOairv",
        "colab_type": "code",
        "outputId": "4e87791e-81e4-498b-f536-e75cb884aef6",
        "colab": {
          "base_uri": "https://localhost:8080/",
          "height": 0
        }
      },
      "source": [
        "get_target_for_label(labels[0])"
      ],
      "execution_count": 31,
      "outputs": [
        {
          "output_type": "execute_result",
          "data": {
            "text/plain": [
              "1"
            ]
          },
          "metadata": {
            "tags": []
          },
          "execution_count": 31
        }
      ]
    },
    {
      "cell_type": "markdown",
      "metadata": {
        "id": "qoGfOi-eairy",
        "colab_type": "text"
      },
      "source": [
        "Run the following two cells. They should print out `'NEGATIVE'` and `0`, respectively."
      ]
    },
    {
      "cell_type": "code",
      "metadata": {
        "id": "doJbST_wairz",
        "colab_type": "code",
        "outputId": "2e92caed-f0bb-42a8-9e5b-956823f723a9",
        "colab": {
          "base_uri": "https://localhost:8080/",
          "height": 0
        }
      },
      "source": [
        "labels[1]"
      ],
      "execution_count": 32,
      "outputs": [
        {
          "output_type": "execute_result",
          "data": {
            "text/plain": [
              "'NEGATIVE'"
            ]
          },
          "metadata": {
            "tags": []
          },
          "execution_count": 32
        }
      ]
    },
    {
      "cell_type": "code",
      "metadata": {
        "id": "L0C8FJYJair2",
        "colab_type": "code",
        "outputId": "d99df805-310a-4eb0-96a4-e5d5205189d6",
        "colab": {
          "base_uri": "https://localhost:8080/",
          "height": 0
        }
      },
      "source": [
        "get_target_for_label(labels[1])"
      ],
      "execution_count": 33,
      "outputs": [
        {
          "output_type": "execute_result",
          "data": {
            "text/plain": [
              "0"
            ]
          },
          "metadata": {
            "tags": []
          },
          "execution_count": 33
        }
      ]
    },
    {
      "cell_type": "markdown",
      "metadata": {
        "id": "sIz30uuOair6",
        "colab_type": "text"
      },
      "source": [
        "# End of Project 2. \n",
        "## Watch the next video to see Andrew's solution, then continue on to the next lesson."
      ]
    },
    {
      "cell_type": "markdown",
      "metadata": {
        "id": "MGjvZhHQair6",
        "colab_type": "text"
      },
      "source": [
        "# Project 3: Building a Neural Network<a id='project_3'></a>"
      ]
    },
    {
      "cell_type": "markdown",
      "metadata": {
        "id": "9pujCQhbair7",
        "colab_type": "text"
      },
      "source": [
        "**TODO:** We've included the framework of a class called `SentimentNetork`. Implement all of the items marked `TODO` in the code. These include doing the following:\n",
        "- Create a basic neural network much like the networks you've seen in earlier lessons and in Project 1, with an input layer, a hidden layer, and an output layer. \n",
        "- Do **not** add a non-linearity in the hidden layer. That is, do not use an activation function when calculating the hidden layer outputs.\n",
        "- Re-use the code from earlier in this notebook to create the training data (see `TODO`s in the code)\n",
        "- Implement the `pre_process_data` function to create the vocabulary for our training data generating functions\n",
        "- Ensure `train` trains over the entire corpus"
      ]
    },
    {
      "cell_type": "markdown",
      "metadata": {
        "id": "ici4Yenrair8",
        "colab_type": "text"
      },
      "source": [
        "### Where to Get Help if You Need it\n",
        "- Re-watch earlier Udacity lectures\n",
        "- Chapters 3-5 - [Grokking Deep Learning](https://www.manning.com/books/grokking-deep-learning) - (Check inside your classroom for a discount code)"
      ]
    },
    {
      "cell_type": "code",
      "metadata": {
        "id": "k2Htd6RAair9",
        "colab_type": "code",
        "colab": {}
      },
      "source": [
        "import time\n",
        "import sys\n",
        "import numpy as np\n",
        "\n",
        "# Encapsulate our neural network in a class\n",
        "class SentimentNetwork:\n",
        "    def __init__(self, reviews, labels, hidden_nodes = 10, learning_rate = 0.1):\n",
        "        \"\"\"Create a SentimenNetwork with the given settings\n",
        "        Args:\n",
        "            reviews(list) - List of reviews used for training\n",
        "            labels(list) - List of POSITIVE/NEGATIVE labels associated with the given reviews\n",
        "            hidden_nodes(int) - Number of nodes to create in the hidden layer\n",
        "            learning_rate(float) - Learning rate to use while training\n",
        "        \n",
        "        \"\"\"\n",
        "        # Assign a seed to our random number generator to ensure we get\n",
        "        # reproducable results during development \n",
        "        np.random.seed(1)\n",
        "\n",
        "        # process the reviews and their associated labels so that everything\n",
        "        # is ready for training\n",
        "        self.pre_process_data(reviews, labels)\n",
        "        \n",
        "        # Build the network to have the number of hidden nodes and the learning rate that\n",
        "        # were passed into this initializer. Make the same number of input nodes as\n",
        "        # there are vocabulary words and create a single output node.\n",
        "        self.init_network(len(self.review_vocab),hidden_nodes, 1, learning_rate)\n",
        "\n",
        "    def pre_process_data(self, reviews, labels):\n",
        "        \n",
        "        review_vocab = set()\n",
        "        # TODO: populate review_vocab with all of the words in the given reviews\n",
        "        #       Remember to split reviews into individual words \n",
        "        #       using \"split(' ')\" instead of \"split()\".\n",
        "        for review in reviews:\n",
        "            for word in review.split(' '):\n",
        "                review_vocab.add(word)\n",
        "                \n",
        "        # Convert the vocabulary set to a list so we can access words via indices\n",
        "        self.review_vocab = list(review_vocab)\n",
        "        \n",
        "        label_vocab = set()\n",
        "        # TODO: populate label_vocab with all of the words in the given labels.\n",
        "        #       There is no need to split the labels because each one is a single word.\n",
        "        for label in labels:\n",
        "            label_vocab.add(label)\n",
        "        \n",
        "        # Convert the label vocabulary set to a list so we can access labels via indices\n",
        "        self.label_vocab = list(label_vocab)\n",
        "        \n",
        "        # Store the sizes of the review and label vocabularies.\n",
        "        self.review_vocab_size = len(self.review_vocab)\n",
        "        self.label_vocab_size = len(self.label_vocab)\n",
        "        \n",
        "        # Create a dictionary of words in the vocabulary mapped to index positions\n",
        "        self.word2index = {}\n",
        "        # TODO: populate self.word2index with indices for all the words in self.review_vocab\n",
        "        #       like you saw earlier in the notebook\n",
        "        for i,word in enumerate(self.review_vocab):\n",
        "            self.word2index[word] = i\n",
        "        \n",
        "        # Create a dictionary of labels mapped to index positions\n",
        "        self.label2index = {}\n",
        "        # TODO: do the same thing you did for self.word2index and self.review_vocab, \n",
        "        #       but for self.label2index and self.label_vocab instead\n",
        "        for i,label in enumerate(self.label_vocab):\n",
        "            self.label2index[word] = i\n",
        "         \n",
        "    def init_network(self, input_nodes, hidden_nodes, output_nodes, learning_rate):\n",
        "        # Store the number of nodes in input, hidden, and output layers.\n",
        "        self.input_nodes = input_nodes\n",
        "        self.hidden_nodes = hidden_nodes\n",
        "        self.output_nodes = output_nodes\n",
        "\n",
        "        # Store the learning rate\n",
        "        self.learning_rate = learning_rate\n",
        "\n",
        "        # Initialize weights\n",
        "        \n",
        "        # TODO: initialize self.weights_0_1 as a matrix of zeros. These are the weights between\n",
        "        #       the input layer and the hidden layer.\n",
        "        self.weights_0_1 = np.zeros((input_nodes, hidden_nodes))\n",
        "        \n",
        "        # TODO: initialize self.weights_1_2 as a matrix of random values. \n",
        "        #       These are the weights between the hidden layer and the output layer.\n",
        "        self.weights_1_2 = np.random.normal(0.0, hidden_nodes**-0.5, (hidden_nodes, output_nodes))\n",
        "        \n",
        "        # TODO: Create the input layer, a two-dimensional matrix with shape \n",
        "        #       1 x input_nodes, with all values initialized to zero\n",
        "        self.layer_0 = np.zeros((1,input_nodes))\n",
        "    \n",
        "        \n",
        "    def update_input_layer(self,review):\n",
        "        # TODO: You can copy most of the code you wrote for update_input_layer \n",
        "        #       earlier in this notebook. \n",
        "        #\n",
        "        #       However, MAKE SURE YOU CHANGE ALL VARIABLES TO REFERENCE\n",
        "        #       THE VERSIONS STORED IN THIS OBJECT, NOT THE GLOBAL OBJECTS.\n",
        "        #       For example, replace \"layer_0 *= 0\" with \"self.layer_0 *= 0\"\n",
        "        \n",
        "        self.layer_0 *= 0\n",
        "        \n",
        "        for word in review.split(' '):\n",
        "            if (word in self.word2index.keys()):\n",
        "                self.layer_0[0][self.word2index[word]] += 1\n",
        "     \n",
        "    def get_target_for_label(self,label):\n",
        "        # TODO: Copy the code you wrote for get_target_for_label \n",
        "        #       earlier in this notebook. \n",
        "        if(label == 'POSITIVE'):\n",
        "            return 1\n",
        "        else:\n",
        "            return 0\n",
        "        \n",
        "    def sigmoid(self,x):\n",
        "        # TODO: Return the result of calculating the sigmoid activation function\n",
        "        #       shown in the lectures\n",
        "        return 1 / (1 + np.exp(-x))\n",
        "    \n",
        "    def sigmoid_output_2_derivative(self,output):\n",
        "        # TODO: Return the derivative of the sigmoid activation function, \n",
        "        #       where \"output\" is the original output from the sigmoid fucntion \n",
        "        return output * (1 - output)\n",
        "\n",
        "    def train(self, training_reviews, training_labels):\n",
        "        \n",
        "        # make sure out we have a matching number of reviews and labels\n",
        "        assert(len(training_reviews) == len(training_labels))\n",
        "        \n",
        "        # Keep track of correct predictions to display accuracy during training \n",
        "        correct_so_far = 0\n",
        "        \n",
        "        # Remember when we started for printing time statistics\n",
        "        start = time.time()\n",
        "\n",
        "        # loop through all the given reviews and run a forward and backward pass,\n",
        "        # updating weights for every item\n",
        "        for i in range(len(training_reviews)):\n",
        "            \n",
        "            # TODO: Get the next review and its correct label\n",
        "            review = training_reviews[i]\n",
        "            label = training_labels[i]\n",
        "            # TODO: Implement the forward pass through the network. \n",
        "            #       That means use the given review to update the input layer, \n",
        "            #       then calculate values for the hidden layer,\n",
        "            #       and finally calculate the output layer.\n",
        "            # \n",
        "            #       Do not use an activation function for the hidden layer,\n",
        "            #       but use the sigmoid activation function for the output layer.\n",
        "            self.update_input_layer(review)\n",
        "            layer_1 = self.layer_0.dot(self.weights_0_1)\n",
        "            layer_2 = self.sigmoid(layer_1.dot(self.weights_1_2))\n",
        "            \n",
        "            # TODO: Implement the back propagation pass here. \n",
        "            #       That means calculate the error for the forward pass's prediction\n",
        "            #       and update the weights in the network according to their\n",
        "            #       contributions toward the error, as calculated via the\n",
        "            #       gradient descent and back propagation algorithms you \n",
        "            #       learned in class.\n",
        "            layer_2_error = layer_2 - self.get_target_for_label(label)\n",
        "            layer_2_delta = layer_2_error * self.sigmoid_output_2_derivative(layer_2)\n",
        "            \n",
        "            layer_1_error = layer_2_delta.dot(self.weights_1_2.T)\n",
        "            layer_1_delta = layer_1_error\n",
        "            \n",
        "            self.weights_1_2 -= layer_1.T.dot(layer_2_delta) * self.learning_rate\n",
        "            self.weights_0_1 -= self.layer_0.T.dot(layer_1_delta) * self.learning_rate            \n",
        "            \n",
        "            # TODO: Keep track of correct predictions. To determine if the prediction was\n",
        "            #       correct, check that the absolute value of the output error \n",
        "            #       is less than 0.5. If so, add one to the correct_so_far count.\n",
        "            if(np.abs(layer_2_error) < 0.5):\n",
        "                correct_so_far += 1                \n",
        "            \n",
        "            # For debug purposes, print out our prediction accuracy and speed \n",
        "            # throughout the training process. \n",
        "\n",
        "            elapsed_time = float(time.time() - start)\n",
        "            reviews_per_second = i / elapsed_time if elapsed_time > 0 else 0\n",
        "            \n",
        "            sys.stdout.write(\"\\rProgress:\" + str(100 * i/float(len(training_reviews)))[:4] \\\n",
        "                             + \"% Speed(reviews/sec):\" + str(reviews_per_second)[0:5] \\\n",
        "                             + \" #Correct:\" + str(correct_so_far) + \" #Trained:\" + str(i+1) \\\n",
        "                             + \" Training Accuracy:\" + str(correct_so_far * 100 / float(i+1))[:4] + \"%\")\n",
        "            if(i % 2500 == 0):\n",
        "                print(\"\")\n",
        "    \n",
        "    def test(self, testing_reviews, testing_labels):\n",
        "        \"\"\"\n",
        "        Attempts to predict the labels for the given testing_reviews,\n",
        "        and uses the test_labels to calculate the accuracy of those predictions.\n",
        "        \"\"\"\n",
        "        \n",
        "        # keep track of how many correct predictions we make\n",
        "        correct = 0\n",
        "\n",
        "        # we'll time how many predictions per second we make\n",
        "        start = time.time()\n",
        "\n",
        "        # Loop through each of the given reviews and call run to predict\n",
        "        # its label. \n",
        "        for i in range(len(testing_reviews)):\n",
        "            pred = self.run(testing_reviews[i])\n",
        "            if(pred == testing_labels[i]):\n",
        "                correct += 1\n",
        "            \n",
        "            # For debug purposes, print out our prediction accuracy and speed \n",
        "            # throughout the prediction process. \n",
        "\n",
        "            elapsed_time = float(time.time() - start)\n",
        "            reviews_per_second = i / elapsed_time if elapsed_time > 0 else 0\n",
        "            \n",
        "            sys.stdout.write(\"\\rProgress:\" + str(100 * i/float(len(testing_reviews)))[:4] \\\n",
        "                             + \"% Speed(reviews/sec):\" + str(reviews_per_second)[0:5] \\\n",
        "                             + \" #Correct:\" + str(correct) + \" #Tested:\" + str(i+1) \\\n",
        "                             + \" Testing Accuracy:\" + str(correct * 100 / float(i+1))[:4] + \"%\")\n",
        "    \n",
        "    def run(self, review):\n",
        "        \"\"\"\n",
        "        Returns a POSITIVE or NEGATIVE prediction for the given review.\n",
        "        \"\"\"\n",
        "        # TODO: Run a forward pass through the network, like you did in the\n",
        "        #       \"train\" function. That means use the given review to \n",
        "        #       update the input layer, then calculate values for the hidden layer,\n",
        "        #       and finally calculate the output layer.\n",
        "        #\n",
        "        #       Note: The review passed into this function for prediction \n",
        "        #             might come from anywhere, so you should convert it \n",
        "        #             to lower case prior to using it.\n",
        "        self.update_input_layer(review.lower())\n",
        "        layer1 = self.layer_0.dot(self.weights_0_1)\n",
        "        layer2 = layer1.dot(self.weights_1_2)\n",
        "        \n",
        "        # TODO: The output layer should now contain a prediction. \n",
        "        #       Return `POSITIVE` for predictions greater-than-or-equal-to `0.5`, \n",
        "        #       and `NEGATIVE` otherwise.\n",
        "        if (layer2[0] > 0.5):\n",
        "            return 'POSITIVE'\n",
        "        else:\n",
        "            return 'NEGATIVE'\n"
      ],
      "execution_count": 0,
      "outputs": []
    },
    {
      "cell_type": "markdown",
      "metadata": {
        "id": "G1fiJwctair_",
        "colab_type": "text"
      },
      "source": [
        "Run the following cell to create a `SentimentNetwork` that will train on all but the last 1000 reviews (we're saving those for testing). Here we use a learning rate of `0.1`."
      ]
    },
    {
      "cell_type": "code",
      "metadata": {
        "id": "lHFPYSDYaisA",
        "colab_type": "code",
        "colab": {}
      },
      "source": [
        "mlp = SentimentNetwork(reviews[:-1000],labels[:-1000], learning_rate=0.1)"
      ],
      "execution_count": 0,
      "outputs": []
    },
    {
      "cell_type": "markdown",
      "metadata": {
        "id": "IJK6Ej2uaisD",
        "colab_type": "text"
      },
      "source": [
        "Run the following cell to test the network's performance against the last 1000 reviews (the ones we held out from our training set). \n",
        "\n",
        "**We have not trained the model yet, so the results should be about 50% as it will just be guessing and there are only two possible values to choose from.**"
      ]
    },
    {
      "cell_type": "code",
      "metadata": {
        "id": "2cKyTD9laisG",
        "colab_type": "code",
        "colab": {}
      },
      "source": [
        "mlp.test(reviews[-1000:],labels[-1000:])"
      ],
      "execution_count": 0,
      "outputs": []
    },
    {
      "cell_type": "markdown",
      "metadata": {
        "id": "NM6oSfNbaisJ",
        "colab_type": "text"
      },
      "source": [
        "Run the following cell to actually train the network. During training, it will display the model's accuracy repeatedly as it trains so you can see how well it's doing."
      ]
    },
    {
      "cell_type": "code",
      "metadata": {
        "id": "I18kMcrSaisK",
        "colab_type": "code",
        "colab": {}
      },
      "source": [
        "mlp.train(reviews[:-1000],labels[:-1000])"
      ],
      "execution_count": 0,
      "outputs": []
    },
    {
      "cell_type": "markdown",
      "metadata": {
        "id": "lMHP7gh0aisM",
        "colab_type": "text"
      },
      "source": [
        "That most likely didn't train very well. Part of the reason may be because the learning rate is too high. Run the following cell to recreate the network with a smaller learning rate, `0.01`, and then train the new network."
      ]
    },
    {
      "cell_type": "code",
      "metadata": {
        "id": "2Z1DrryhaisN",
        "colab_type": "code",
        "outputId": "81b45ac9-40fd-4590-d6a1-dfcc29077848",
        "colab": {
          "base_uri": "https://localhost:8080/",
          "height": 204
        }
      },
      "source": [
        "mlp = SentimentNetwork(reviews[:-1000],labels[:-1000], learning_rate=0.01)\n",
        "mlp.train(reviews[:-1000],labels[:-1000])"
      ],
      "execution_count": 38,
      "outputs": [
        {
          "output_type": "stream",
          "text": [
            "Progress:0.0% Speed(reviews/sec):0.0 #Correct:0 #Trained:1 Training Accuracy:0.0%\n",
            "Progress:10.4% Speed(reviews/sec):253.7 #Correct:1392 #Trained:2501 Training Accuracy:55.6%\n",
            "Progress:20.8% Speed(reviews/sec):253.4 #Correct:2988 #Trained:5001 Training Accuracy:59.7%\n",
            "Progress:31.2% Speed(reviews/sec):253.7 #Correct:4653 #Trained:7501 Training Accuracy:62.0%\n",
            "Progress:41.6% Speed(reviews/sec):255.4 #Correct:6399 #Trained:10001 Training Accuracy:63.9%\n",
            "Progress:52.0% Speed(reviews/sec):255.6 #Correct:8171 #Trained:12501 Training Accuracy:65.3%\n",
            "Progress:62.5% Speed(reviews/sec):255.6 #Correct:9955 #Trained:15001 Training Accuracy:66.3%\n",
            "Progress:72.9% Speed(reviews/sec):256.3 #Correct:11739 #Trained:17501 Training Accuracy:67.0%\n",
            "Progress:83.3% Speed(reviews/sec):256.7 #Correct:13591 #Trained:20001 Training Accuracy:67.9%\n",
            "Progress:93.7% Speed(reviews/sec):257.2 #Correct:15440 #Trained:22501 Training Accuracy:68.6%\n",
            "Progress:99.9% Speed(reviews/sec):257.6 #Correct:16589 #Trained:24000 Training Accuracy:69.1%"
          ],
          "name": "stdout"
        }
      ]
    },
    {
      "cell_type": "markdown",
      "metadata": {
        "id": "kbOogI5daisQ",
        "colab_type": "text"
      },
      "source": [
        "That probably wasn't much different. Run the following cell to recreate the network one more time with an even smaller learning rate, `0.001`, and then train the new network."
      ]
    },
    {
      "cell_type": "code",
      "metadata": {
        "id": "o9-zw60paisR",
        "colab_type": "code",
        "outputId": "f9f38aa4-8723-4d30-ad02-d7d82a7331fb",
        "colab": {
          "base_uri": "https://localhost:8080/",
          "height": 204
        }
      },
      "source": [
        "mlp = SentimentNetwork(reviews[:-1000],labels[:-1000], learning_rate=0.001)\n",
        "mlp.train(reviews[:-1000],labels[:-1000])"
      ],
      "execution_count": 39,
      "outputs": [
        {
          "output_type": "stream",
          "text": [
            "Progress:0.0% Speed(reviews/sec):0.0 #Correct:0 #Trained:1 Training Accuracy:0.0%\n",
            "Progress:10.4% Speed(reviews/sec):259.4 #Correct:1355 #Trained:2501 Training Accuracy:54.1%\n",
            "Progress:20.8% Speed(reviews/sec):258.1 #Correct:2912 #Trained:5001 Training Accuracy:58.2%\n",
            "Progress:31.2% Speed(reviews/sec):258.0 #Correct:4572 #Trained:7501 Training Accuracy:60.9%\n",
            "Progress:41.6% Speed(reviews/sec):258.4 #Correct:6316 #Trained:10001 Training Accuracy:63.1%\n",
            "Progress:52.0% Speed(reviews/sec):258.0 #Correct:8113 #Trained:12501 Training Accuracy:64.8%\n",
            "Progress:62.5% Speed(reviews/sec):258.3 #Correct:9908 #Trained:15001 Training Accuracy:66.0%\n",
            "Progress:72.9% Speed(reviews/sec):259.0 #Correct:11699 #Trained:17501 Training Accuracy:66.8%\n",
            "Progress:83.3% Speed(reviews/sec):259.3 #Correct:13573 #Trained:20001 Training Accuracy:67.8%\n",
            "Progress:93.7% Speed(reviews/sec):259.3 #Correct:15441 #Trained:22501 Training Accuracy:68.6%\n",
            "Progress:99.9% Speed(reviews/sec):259.3 #Correct:16596 #Trained:24000 Training Accuracy:69.1%"
          ],
          "name": "stdout"
        }
      ]
    },
    {
      "cell_type": "markdown",
      "metadata": {
        "id": "Cfv86SOnaisX",
        "colab_type": "text"
      },
      "source": [
        "With a learning rate of `0.001`, the network should finally have started to improve during training. It's still not very good, but it shows that this solution has potential. We will improve it in the next lesson."
      ]
    },
    {
      "cell_type": "markdown",
      "metadata": {
        "id": "FYo3qH2YaisY",
        "colab_type": "text"
      },
      "source": [
        "# End of Project 3. \n",
        "## Watch the next video to see Andrew's solution, then continue on to the next lesson."
      ]
    },
    {
      "cell_type": "markdown",
      "metadata": {
        "id": "cwJoE1XJaisZ",
        "colab_type": "text"
      },
      "source": [
        "# Understanding Neural Noise<a id='lesson_4'></a>\n",
        "\n",
        "The following cells include includes the code Andrew shows in the next video. We've included it here so you can run the cells along with the video without having to type in everything."
      ]
    },
    {
      "cell_type": "code",
      "metadata": {
        "id": "MssFEShFaisZ",
        "colab_type": "code",
        "outputId": "cc87c0a4-4fe1-4f3b-cac9-1144a104e956",
        "colab": {
          "base_uri": "https://localhost:8080/",
          "height": 347
        }
      },
      "source": [
        "from IPython.display import Image\n",
        "Image(filename='sentiment_network.png')"
      ],
      "execution_count": 40,
      "outputs": [
        {
          "output_type": "execute_result",
          "data": {
            "image/png": "[encoded data removed]",
            "text/plain": [
              "<IPython.core.display.Image object>"
            ]
          },
          "metadata": {
            "tags": []
          },
          "execution_count": 40
        }
      ]
    },
    {
      "cell_type": "code",
      "metadata": {
        "id": "bu6j9jlcaisb",
        "colab_type": "code",
        "colab": {}
      },
      "source": [
        "def update_input_layer(review):\n",
        "    \n",
        "    global layer_0\n",
        "    \n",
        "    # clear out previous state, reset the layer to be all 0s\n",
        "    layer_0 *= 0\n",
        "    for word in review.split(\" \"):\n",
        "        layer_0[0][word2index[word]] += 1\n",
        "\n",
        "update_input_layer(reviews[0])"
      ],
      "execution_count": 0,
      "outputs": []
    },
    {
      "cell_type": "code",
      "metadata": {
        "id": "iHTfHZY6aisd",
        "colab_type": "code",
        "outputId": "a8567d4a-0720-462f-b6a8-965e47467ce8",
        "colab": {
          "base_uri": "https://localhost:8080/",
          "height": 34
        }
      },
      "source": [
        "layer_0"
      ],
      "execution_count": 42,
      "outputs": [
        {
          "output_type": "execute_result",
          "data": {
            "text/plain": [
              "array([[18.,  0.,  0., ...,  0.,  0.,  0.]])"
            ]
          },
          "metadata": {
            "tags": []
          },
          "execution_count": 42
        }
      ]
    },
    {
      "cell_type": "code",
      "metadata": {
        "id": "qJaXtDrkaisf",
        "colab_type": "code",
        "colab": {}
      },
      "source": [
        "review_counter = Counter()"
      ],
      "execution_count": 0,
      "outputs": []
    },
    {
      "cell_type": "code",
      "metadata": {
        "id": "EWQfImP3aish",
        "colab_type": "code",
        "colab": {}
      },
      "source": [
        "for word in reviews[0].split(\" \"):\n",
        "    review_counter[word] += 1"
      ],
      "execution_count": 0,
      "outputs": []
    },
    {
      "cell_type": "code",
      "metadata": {
        "id": "Uj4MAEPUaisk",
        "colab_type": "code",
        "outputId": "f366a0bc-98e8-40f3-b5f0-18722137e32d",
        "colab": {
          "base_uri": "https://localhost:8080/",
          "height": 1000
        }
      },
      "source": [
        "review_counter.most_common()"
      ],
      "execution_count": 45,
      "outputs": [
        {
          "output_type": "execute_result",
          "data": {
            "text/plain": [
              "[('.', 27),\n",
              " ('', 18),\n",
              " ('the', 9),\n",
              " ('to', 6),\n",
              " ('high', 5),\n",
              " ('i', 5),\n",
              " ('bromwell', 4),\n",
              " ('is', 4),\n",
              " ('a', 4),\n",
              " ('teachers', 4),\n",
              " ('that', 4),\n",
              " ('of', 4),\n",
              " ('it', 2),\n",
              " ('at', 2),\n",
              " ('as', 2),\n",
              " ('school', 2),\n",
              " ('my', 2),\n",
              " ('in', 2),\n",
              " ('me', 2),\n",
              " ('students', 2),\n",
              " ('their', 2),\n",
              " ('student', 2),\n",
              " ('cartoon', 1),\n",
              " ('comedy', 1),\n",
              " ('ran', 1),\n",
              " ('same', 1),\n",
              " ('time', 1),\n",
              " ('some', 1),\n",
              " ('other', 1),\n",
              " ('programs', 1),\n",
              " ('about', 1),\n",
              " ('life', 1),\n",
              " ('such', 1),\n",
              " ('years', 1),\n",
              " ('teaching', 1),\n",
              " ('profession', 1),\n",
              " ('lead', 1),\n",
              " ('believe', 1),\n",
              " ('s', 1),\n",
              " ('satire', 1),\n",
              " ('much', 1),\n",
              " ('closer', 1),\n",
              " ('reality', 1),\n",
              " ('than', 1),\n",
              " ('scramble', 1),\n",
              " ('survive', 1),\n",
              " ('financially', 1),\n",
              " ('insightful', 1),\n",
              " ('who', 1),\n",
              " ('can', 1),\n",
              " ('see', 1),\n",
              " ('right', 1),\n",
              " ('through', 1),\n",
              " ('pathetic', 1),\n",
              " ('pomp', 1),\n",
              " ('pettiness', 1),\n",
              " ('whole', 1),\n",
              " ('situation', 1),\n",
              " ('all', 1),\n",
              " ('remind', 1),\n",
              " ('schools', 1),\n",
              " ('knew', 1),\n",
              " ('and', 1),\n",
              " ('when', 1),\n",
              " ('saw', 1),\n",
              " ('episode', 1),\n",
              " ('which', 1),\n",
              " ('repeatedly', 1),\n",
              " ('tried', 1),\n",
              " ('burn', 1),\n",
              " ('down', 1),\n",
              " ('immediately', 1),\n",
              " ('recalled', 1),\n",
              " ('classic', 1),\n",
              " ('line', 1),\n",
              " ('inspector', 1),\n",
              " ('m', 1),\n",
              " ('here', 1),\n",
              " ('sack', 1),\n",
              " ('one', 1),\n",
              " ('your', 1),\n",
              " ('welcome', 1),\n",
              " ('expect', 1),\n",
              " ('many', 1),\n",
              " ('adults', 1),\n",
              " ('age', 1),\n",
              " ('think', 1),\n",
              " ('far', 1),\n",
              " ('fetched', 1),\n",
              " ('what', 1),\n",
              " ('pity', 1),\n",
              " ('isn', 1),\n",
              " ('t', 1)]"
            ]
          },
          "metadata": {
            "tags": []
          },
          "execution_count": 45
        }
      ]
    },
    {
      "cell_type": "markdown",
      "metadata": {
        "id": "4auGj3u_aism",
        "colab_type": "text"
      },
      "source": [
        "# Project 4: Reducing Noise in Our Input Data<a id='project_4'></a>\n",
        "\n",
        "**TODO:** Attempt to reduce the noise in the input data like Andrew did in the previous video. Specifically, do the following:\n",
        "* Copy the `SentimentNetwork` class you created earlier into the following cell.\n",
        "* Modify `update_input_layer` so it does not count how many times each word is used, but rather just stores whether or not a word was used. "
      ]
    },
    {
      "cell_type": "code",
      "metadata": {
        "id": "PhKCY4Msaisn",
        "colab_type": "code",
        "colab": {}
      },
      "source": [
        "# TODO: -Copy the SentimentNetwork class from Projet 3 lesson\n",
        "#       -Modify it to reduce noise, like in the video \n",
        "\n",
        "# Encapsulate our neural network in a class\n",
        "class SentimentNetwork:\n",
        "    def __init__(self, reviews, labels, hidden_nodes = 10, learning_rate = 0.1):\n",
        "        \"\"\"Create a SentimenNetwork with the given settings\n",
        "        Args:\n",
        "            reviews(list) - List of reviews used for training\n",
        "            labels(list) - List of POSITIVE/NEGATIVE labels associated with the given reviews\n",
        "            hidden_nodes(int) - Number of nodes to create in the hidden layer\n",
        "            learning_rate(float) - Learning rate to use while training\n",
        "        \n",
        "        \"\"\"\n",
        "        # Assign a seed to our random number generator to ensure we get\n",
        "        # reproducable results during development \n",
        "        np.random.seed(1)\n",
        "\n",
        "        # process the reviews and their associated labels so that everything\n",
        "        # is ready for training\n",
        "        self.pre_process_data(reviews, labels)\n",
        "        \n",
        "        # Build the network to have the number of hidden nodes and the learning rate that\n",
        "        # were passed into this initializer. Make the same number of input nodes as\n",
        "        # there are vocabulary words and create a single output node.\n",
        "        self.init_network(len(self.review_vocab),hidden_nodes, 1, learning_rate)\n",
        "\n",
        "    def pre_process_data(self, reviews, labels):\n",
        "        \n",
        "        review_vocab = set()\n",
        "        # TODO: populate review_vocab with all of the words in the given reviews\n",
        "        #       Remember to split reviews into individual words \n",
        "        #       using \"split(' ')\" instead of \"split()\".\n",
        "        for review in reviews:\n",
        "            for word in review.split(' '):\n",
        "                review_vocab.add(word)\n",
        "                \n",
        "        # Convert the vocabulary set to a list so we can access words via indices\n",
        "        self.review_vocab = list(review_vocab)\n",
        "        \n",
        "        label_vocab = set()\n",
        "        # TODO: populate label_vocab with all of the words in the given labels.\n",
        "        #       There is no need to split the labels because each one is a single word.\n",
        "        for label in labels:\n",
        "            label_vocab.add(label)\n",
        "        \n",
        "        # Convert the label vocabulary set to a list so we can access labels via indices\n",
        "        self.label_vocab = list(label_vocab)\n",
        "        \n",
        "        # Store the sizes of the review and label vocabularies.\n",
        "        self.review_vocab_size = len(self.review_vocab)\n",
        "        self.label_vocab_size = len(self.label_vocab)\n",
        "        \n",
        "        # Create a dictionary of words in the vocabulary mapped to index positions\n",
        "        self.word2index = {}\n",
        "        # TODO: populate self.word2index with indices for all the words in self.review_vocab\n",
        "        #       like you saw earlier in the notebook\n",
        "        for i,word in enumerate(self.review_vocab):\n",
        "            self.word2index[word] = i\n",
        "        \n",
        "        # Create a dictionary of labels mapped to index positions\n",
        "        self.label2index = {}\n",
        "        # TODO: do the same thing you did for self.word2index and self.review_vocab, \n",
        "        #       but for self.label2index and self.label_vocab instead\n",
        "        for i,label in enumerate(self.label_vocab):\n",
        "            self.label2index[word] = i\n",
        "         \n",
        "    def init_network(self, input_nodes, hidden_nodes, output_nodes, learning_rate):\n",
        "        # Store the number of nodes in input, hidden, and output layers.\n",
        "        self.input_nodes = input_nodes\n",
        "        self.hidden_nodes = hidden_nodes\n",
        "        self.output_nodes = output_nodes\n",
        "\n",
        "        # Store the learning rate\n",
        "        self.learning_rate = learning_rate\n",
        "\n",
        "        # Initialize weights\n",
        "        \n",
        "        # TODO: initialize self.weights_0_1 as a matrix of zeros. These are the weights between\n",
        "        #       the input layer and the hidden layer.\n",
        "        self.weights_0_1 = np.zeros((input_nodes, hidden_nodes))\n",
        "        \n",
        "        # TODO: initialize self.weights_1_2 as a matrix of random values. \n",
        "        #       These are the weights between the hidden layer and the output layer.\n",
        "        self.weights_1_2 = np.random.normal(0.0, hidden_nodes**-0.5, (hidden_nodes, output_nodes))\n",
        "        \n",
        "        # TODO: Create the input layer, a two-dimensional matrix with shape \n",
        "        #       1 x input_nodes, with all values initialized to zero\n",
        "        self.layer_0 = np.zeros((1,input_nodes))\n",
        "    \n",
        "        \n",
        "    def update_input_layer(self,review):\n",
        "        # TODO: You can copy most of the code you wrote for update_input_layer \n",
        "        #       earlier in this notebook. \n",
        "        #\n",
        "        #       However, MAKE SURE YOU CHANGE ALL VARIABLES TO REFERENCE\n",
        "        #       THE VERSIONS STORED IN THIS OBJECT, NOT THE GLOBAL OBJECTS.\n",
        "        #       For example, replace \"layer_0 *= 0\" with \"self.layer_0 *= 0\"\n",
        "        \n",
        "        self.layer_0 *= 0\n",
        "        \n",
        "        for word in review.split(' '):\n",
        "            if (word in self.word2index.keys()):\n",
        "                self.layer_0[0][self.word2index[word]] = 1\n",
        "     \n",
        "    def get_target_for_label(self,label):\n",
        "        # TODO: Copy the code you wrote for get_target_for_label \n",
        "        #       earlier in this notebook. \n",
        "        if(label == 'POSITIVE'):\n",
        "            return 1\n",
        "        else:\n",
        "            return 0\n",
        "        \n",
        "    def sigmoid(self,x):\n",
        "        # TODO: Return the result of calculating the sigmoid activation function\n",
        "        #       shown in the lectures\n",
        "        return 1 / (1 + np.exp(-x))\n",
        "    \n",
        "    def sigmoid_output_2_derivative(self,output):\n",
        "        # TODO: Return the derivative of the sigmoid activation function, \n",
        "        #       where \"output\" is the original output from the sigmoid fucntion \n",
        "        return output * (1 - output)\n",
        "\n",
        "    def train(self, training_reviews, training_labels):\n",
        "        \n",
        "        # make sure out we have a matching number of reviews and labels\n",
        "        assert(len(training_reviews) == len(training_labels))\n",
        "        \n",
        "        # Keep track of correct predictions to display accuracy during training \n",
        "        correct_so_far = 0\n",
        "        \n",
        "        # Remember when we started for printing time statistics\n",
        "        start = time.time()\n",
        "\n",
        "        # loop through all the given reviews and run a forward and backward pass,\n",
        "        # updating weights for every item\n",
        "        for i in range(len(training_reviews)):\n",
        "            \n",
        "            # TODO: Get the next review and its correct label\n",
        "            review = training_reviews[i]\n",
        "            label = training_labels[i]\n",
        "            # TODO: Implement the forward pass through the network. \n",
        "            #       That means use the given review to update the input layer, \n",
        "            #       then calculate values for the hidden layer,\n",
        "            #       and finally calculate the output layer.\n",
        "            # \n",
        "            #       Do not use an activation function for the hidden layer,\n",
        "            #       but use the sigmoid activation function for the output layer.\n",
        "            self.update_input_layer(review)\n",
        "            layer_1 = self.layer_0.dot(self.weights_0_1)\n",
        "            layer_2 = self.sigmoid(layer_1.dot(self.weights_1_2))\n",
        "            \n",
        "            # TODO: Implement the back propagation pass here. \n",
        "            #       That means calculate the error for the forward pass's prediction\n",
        "            #       and update the weights in the network according to their\n",
        "            #       contributions toward the error, as calculated via the\n",
        "            #       gradient descent and back propagation algorithms you \n",
        "            #       learned in class.\n",
        "            layer_2_error = layer_2 - self.get_target_for_label(label)\n",
        "            layer_2_delta = layer_2_error * self.sigmoid_output_2_derivative(layer_2)\n",
        "            \n",
        "            layer_1_error = layer_2_delta.dot(self.weights_1_2.T)\n",
        "            layer_1_delta = layer_1_error\n",
        "            \n",
        "            self.weights_1_2 -= layer_1.T.dot(layer_2_delta) * self.learning_rate\n",
        "            self.weights_0_1 -= self.layer_0.T.dot(layer_1_delta) * self.learning_rate            \n",
        "            \n",
        "            # TODO: Keep track of correct predictions. To determine if the prediction was\n",
        "            #       correct, check that the absolute value of the output error \n",
        "            #       is less than 0.5. If so, add one to the correct_so_far count.\n",
        "            if(np.abs(layer_2_error) < 0.5):\n",
        "                correct_so_far += 1                \n",
        "            \n",
        "            # For debug purposes, print out our prediction accuracy and speed \n",
        "            # throughout the training process. \n",
        "\n",
        "            elapsed_time = float(time.time() - start)\n",
        "            reviews_per_second = i / elapsed_time if elapsed_time > 0 else 0\n",
        "            \n",
        "            sys.stdout.write(\"\\rProgress:\" + str(100 * i/float(len(training_reviews)))[:4] \\\n",
        "                             + \"% Speed(reviews/sec):\" + str(reviews_per_second)[0:5] \\\n",
        "                             + \" #Correct:\" + str(correct_so_far) + \" #Trained:\" + str(i+1) \\\n",
        "                             + \" Training Accuracy:\" + str(correct_so_far * 100 / float(i+1))[:4] + \"%\")\n",
        "            if(i % 2500 == 0):\n",
        "                print(\"\")\n",
        "    \n",
        "    def test(self, testing_reviews, testing_labels):\n",
        "        \"\"\"\n",
        "        Attempts to predict the labels for the given testing_reviews,\n",
        "        and uses the test_labels to calculate the accuracy of those predictions.\n",
        "        \"\"\"\n",
        "        \n",
        "        # keep track of how many correct predictions we make\n",
        "        correct = 0\n",
        "\n",
        "        # we'll time how many predictions per second we make\n",
        "        start = time.time()\n",
        "\n",
        "        # Loop through each of the given reviews and call run to predict\n",
        "        # its label. \n",
        "        for i in range(len(testing_reviews)):\n",
        "            pred = self.run(testing_reviews[i])\n",
        "            if(pred == testing_labels[i]):\n",
        "                correct += 1\n",
        "            \n",
        "            # For debug purposes, print out our prediction accuracy and speed \n",
        "            # throughout the prediction process. \n",
        "\n",
        "            elapsed_time = float(time.time() - start)\n",
        "            reviews_per_second = i / elapsed_time if elapsed_time > 0 else 0\n",
        "            \n",
        "            sys.stdout.write(\"\\rProgress:\" + str(100 * i/float(len(testing_reviews)))[:4] \\\n",
        "                             + \"% Speed(reviews/sec):\" + str(reviews_per_second)[0:5] \\\n",
        "                             + \" #Correct:\" + str(correct) + \" #Tested:\" + str(i+1) \\\n",
        "                             + \" Testing Accuracy:\" + str(correct * 100 / float(i+1))[:4] + \"%\")\n",
        "    \n",
        "    def run(self, review):\n",
        "        \"\"\"\n",
        "        Returns a POSITIVE or NEGATIVE prediction for the given review.\n",
        "        \"\"\"\n",
        "        # TODO: Run a forward pass through the network, like you did in the\n",
        "        #       \"train\" function. That means use the given review to \n",
        "        #       update the input layer, then calculate values for the hidden layer,\n",
        "        #       and finally calculate the output layer.\n",
        "        #\n",
        "        #       Note: The review passed into this function for prediction \n",
        "        #             might come from anywhere, so you should convert it \n",
        "        #             to lower case prior to using it.\n",
        "        self.update_input_layer(review.lower())\n",
        "        layer1 = self.layer_0.dot(self.weights_0_1)\n",
        "        layer2 = layer1.dot(self.weights_1_2)\n",
        "        \n",
        "        # TODO: The output layer should now contain a prediction. \n",
        "        #       Return `POSITIVE` for predictions greater-than-or-equal-to `0.5`, \n",
        "        #       and `NEGATIVE` otherwise.\n",
        "        if (layer2[0] > 0.5):\n",
        "            return 'POSITIVE'\n",
        "        else:\n",
        "            return 'NEGATIVE'\n"
      ],
      "execution_count": 0,
      "outputs": []
    },
    {
      "cell_type": "markdown",
      "metadata": {
        "id": "4sHQfUmdaisq",
        "colab_type": "text"
      },
      "source": [
        "Run the following cell to recreate the network and train it. Notice we've gone back to the higher learning rate of `0.1`."
      ]
    },
    {
      "cell_type": "code",
      "metadata": {
        "id": "GXmaSlcGaist",
        "colab_type": "code",
        "outputId": "b613bf2d-ced8-42b7-bc72-c2fceb999be6",
        "colab": {
          "base_uri": "https://localhost:8080/",
          "height": 204
        }
      },
      "source": [
        "mlp = SentimentNetwork(reviews[:-1000],labels[:-1000], learning_rate=0.1)\n",
        "mlp.train(reviews[:-1000],labels[:-1000])"
      ],
      "execution_count": 47,
      "outputs": [
        {
          "output_type": "stream",
          "text": [
            "Progress:0.0% Speed(reviews/sec):0.0 #Correct:0 #Trained:1 Training Accuracy:0.0%\n",
            "Progress:10.4% Speed(reviews/sec):269.9 #Correct:1948 #Trained:2501 Training Accuracy:77.8%\n",
            "Progress:20.8% Speed(reviews/sec):272.0 #Correct:3993 #Trained:5001 Training Accuracy:79.8%\n",
            "Progress:31.2% Speed(reviews/sec):272.2 #Correct:6120 #Trained:7501 Training Accuracy:81.5%\n",
            "Progress:41.6% Speed(reviews/sec):273.2 #Correct:8277 #Trained:10001 Training Accuracy:82.7%\n",
            "Progress:52.0% Speed(reviews/sec):273.7 #Correct:10438 #Trained:12501 Training Accuracy:83.4%\n",
            "Progress:62.5% Speed(reviews/sec):274.4 #Correct:12579 #Trained:15001 Training Accuracy:83.8%\n",
            "Progress:72.9% Speed(reviews/sec):274.8 #Correct:14693 #Trained:17501 Training Accuracy:83.9%\n",
            "Progress:83.3% Speed(reviews/sec):274.6 #Correct:16867 #Trained:20001 Training Accuracy:84.3%\n",
            "Progress:93.7% Speed(reviews/sec):274.6 #Correct:19054 #Trained:22501 Training Accuracy:84.6%\n",
            "Progress:99.9% Speed(reviews/sec):274.8 #Correct:20374 #Trained:24000 Training Accuracy:84.8%"
          ],
          "name": "stdout"
        }
      ]
    },
    {
      "cell_type": "markdown",
      "metadata": {
        "id": "k8oBcGgaaisx",
        "colab_type": "text"
      },
      "source": [
        "That should have trained much better than the earlier attempts. It's still not wonderful, but it should have improved dramatically. Run the following cell to test your model with 1000 predictions."
      ]
    },
    {
      "cell_type": "code",
      "metadata": {
        "id": "rm4n1M4Oaisz",
        "colab_type": "code",
        "outputId": "87d6e58e-c151-423b-8d79-5e17fcfd6ead",
        "colab": {
          "base_uri": "https://localhost:8080/",
          "height": 34
        }
      },
      "source": [
        "mlp.test(reviews[-1000:],labels[-1000:])"
      ],
      "execution_count": 48,
      "outputs": [
        {
          "output_type": "stream",
          "text": [
            "Progress:99.9% Speed(reviews/sec):829.6 #Correct:843 #Tested:1000 Testing Accuracy:84.3%"
          ],
          "name": "stdout"
        }
      ]
    },
    {
      "cell_type": "markdown",
      "metadata": {
        "id": "2-smDHfBais3",
        "colab_type": "text"
      },
      "source": [
        "# End of Project 4. \n",
        "## Andrew's solution was actually in the previous video, so rewatch that video if you had any problems with that project. Then continue on to the next lesson.\n",
        "# Analyzing Inefficiencies in our Network<a id='lesson_5'></a>\n",
        "The following cells include the code Andrew shows in the next video. We've included it here so you can run the cells along with the video without having to type in everything."
      ]
    },
    {
      "cell_type": "code",
      "metadata": {
        "id": "SpIxT874ais4",
        "colab_type": "code",
        "colab": {
          "base_uri": "https://localhost:8080/",
          "height": 313
        },
        "outputId": "44cff53d-b361-4e0e-dc17-3928ecc9c97c"
      },
      "source": [
        "Image(filename='sentiment_network_sparse.png')"
      ],
      "execution_count": 49,
      "outputs": [
        {
          "output_type": "execute_result",
          "data": {
            "image/png": "[encoded data removed]",
            "text/plain": [
              "<IPython.core.display.Image object>"
            ]
          },
          "metadata": {
            "tags": []
          },
          "execution_count": 49
        }
      ]
    },
    {
      "cell_type": "code",
      "metadata": {
        "id": "_4dy5Ou3ais6",
        "colab_type": "code",
        "colab": {}
      },
      "source": [
        "layer_0 = np.zeros(10)"
      ],
      "execution_count": 0,
      "outputs": []
    },
    {
      "cell_type": "code",
      "metadata": {
        "id": "vADIkXKTais8",
        "colab_type": "code",
        "colab": {
          "base_uri": "https://localhost:8080/",
          "height": 34
        },
        "outputId": "f8846399-c321-4f19-d46b-2d5ee5fae468"
      },
      "source": [
        "layer_0"
      ],
      "execution_count": 51,
      "outputs": [
        {
          "output_type": "execute_result",
          "data": {
            "text/plain": [
              "array([0., 0., 0., 0., 0., 0., 0., 0., 0., 0.])"
            ]
          },
          "metadata": {
            "tags": []
          },
          "execution_count": 51
        }
      ]
    },
    {
      "cell_type": "code",
      "metadata": {
        "id": "7fHcXjMVais_",
        "colab_type": "code",
        "colab": {}
      },
      "source": [
        "layer_0[4] = 1\n",
        "layer_0[9] = 1"
      ],
      "execution_count": 0,
      "outputs": []
    },
    {
      "cell_type": "code",
      "metadata": {
        "id": "Mw_ADriqaitA",
        "colab_type": "code",
        "colab": {
          "base_uri": "https://localhost:8080/",
          "height": 34
        },
        "outputId": "efaf2a98-8dfe-4fe6-ba7d-cfb2670e2c14"
      },
      "source": [
        "layer_0"
      ],
      "execution_count": 53,
      "outputs": [
        {
          "output_type": "execute_result",
          "data": {
            "text/plain": [
              "array([0., 0., 0., 0., 1., 0., 0., 0., 0., 1.])"
            ]
          },
          "metadata": {
            "tags": []
          },
          "execution_count": 53
        }
      ]
    },
    {
      "cell_type": "code",
      "metadata": {
        "id": "opddPaBsaitC",
        "colab_type": "code",
        "colab": {}
      },
      "source": [
        "weights_0_1 = np.random.randn(10,5)"
      ],
      "execution_count": 0,
      "outputs": []
    },
    {
      "cell_type": "code",
      "metadata": {
        "id": "IuoEI3nZaitE",
        "colab_type": "code",
        "colab": {
          "base_uri": "https://localhost:8080/",
          "height": 34
        },
        "outputId": "6ca80e17-7344-4edc-be8a-1f7017a677fe"
      },
      "source": [
        "layer_0.dot(weights_0_1)"
      ],
      "execution_count": 56,
      "outputs": [
        {
          "output_type": "execute_result",
          "data": {
            "text/plain": [
              "array([-0.05294571,  0.53979838, -0.76713921,  0.14383314,  0.23091427])"
            ]
          },
          "metadata": {
            "tags": []
          },
          "execution_count": 56
        }
      ]
    },
    {
      "cell_type": "code",
      "metadata": {
        "id": "G-8HEBE4aitG",
        "colab_type": "code",
        "colab": {}
      },
      "source": [
        "indices = [4,9]"
      ],
      "execution_count": 0,
      "outputs": []
    },
    {
      "cell_type": "code",
      "metadata": {
        "id": "lTd8uPV6aitI",
        "colab_type": "code",
        "colab": {}
      },
      "source": [
        "layer_1 = np.zeros(5)"
      ],
      "execution_count": 0,
      "outputs": []
    },
    {
      "cell_type": "code",
      "metadata": {
        "id": "CjnJ8UwYaitJ",
        "colab_type": "code",
        "colab": {}
      },
      "source": [
        "for index in indices:\n",
        "    layer_1 += (1 * weights_0_1[index])"
      ],
      "execution_count": 0,
      "outputs": []
    },
    {
      "cell_type": "code",
      "metadata": {
        "id": "Z-Rt_quQaitL",
        "colab_type": "code",
        "colab": {
          "base_uri": "https://localhost:8080/",
          "height": 34
        },
        "outputId": "2d11b132-e441-4ac7-ea20-96bd09ffb0d0"
      },
      "source": [
        "layer_1"
      ],
      "execution_count": 61,
      "outputs": [
        {
          "output_type": "execute_result",
          "data": {
            "text/plain": [
              "array([-0.10589142,  1.07959676, -1.53427842,  0.28766628,  0.46182853])"
            ]
          },
          "metadata": {
            "tags": []
          },
          "execution_count": 61
        }
      ]
    },
    {
      "cell_type": "code",
      "metadata": {
        "id": "P7ncwQUXaitM",
        "colab_type": "code",
        "colab": {
          "base_uri": "https://localhost:8080/",
          "height": 314
        },
        "outputId": "7df51b4f-ff78-4773-9b12-c94de5b19406"
      },
      "source": [
        "Image(filename='sentiment_network_sparse_2.png')"
      ],
      "execution_count": 62,
      "outputs": [
        {
          "output_type": "execute_result",
          "data": {
            "image/png": "[encoded data removed]",
            "text/plain": [
              "<IPython.core.display.Image object>"
            ]
          },
          "metadata": {
            "tags": []
          },
          "execution_count": 62
        }
      ]
    },
    {
      "cell_type": "code",
      "metadata": {
        "id": "kc9TP0OZaitO",
        "colab_type": "code",
        "colab": {}
      },
      "source": [
        "layer_1 = np.zeros(5)"
      ],
      "execution_count": 0,
      "outputs": []
    },
    {
      "cell_type": "code",
      "metadata": {
        "id": "VshL3itKaitP",
        "colab_type": "code",
        "colab": {}
      },
      "source": [
        "for index in indices:\n",
        "    layer_1 += (weights_0_1[index])"
      ],
      "execution_count": 0,
      "outputs": []
    },
    {
      "cell_type": "code",
      "metadata": {
        "id": "qXfER0wtaitR",
        "colab_type": "code",
        "colab": {
          "base_uri": "https://localhost:8080/",
          "height": 34
        },
        "outputId": "ce1dcca8-2381-44c1-eee7-649b6d87d6ee"
      },
      "source": [
        "layer_1"
      ],
      "execution_count": 65,
      "outputs": [
        {
          "output_type": "execute_result",
          "data": {
            "text/plain": [
              "array([-0.05294571,  0.53979838, -0.76713921,  0.14383314,  0.23091427])"
            ]
          },
          "metadata": {
            "tags": []
          },
          "execution_count": 65
        }
      ]
    },
    {
      "cell_type": "markdown",
      "metadata": {
        "id": "eFlbNTD5aitT",
        "colab_type": "text"
      },
      "source": [
        "# Project 5: Making our Network More Efficient<a id='project_5'></a>\n",
        "**TODO:** Make the `SentimentNetwork` class more efficient by eliminating unnecessary multiplications and additions that occur during forward and backward propagation. To do that, you can do the following:\n",
        "* Copy the `SentimentNetwork` class from the previous project into the following cell.\n",
        "* Remove the `update_input_layer` function - you will not need it in this version.\n",
        "* Modify `init_network`:\n",
        ">* You no longer need a separate input layer, so remove any mention of `self.layer_0`\n",
        ">* You will be dealing with the old hidden layer more directly, so create `self.layer_1`, a two-dimensional matrix with shape 1 x hidden_nodes, with all values initialized to zero\n",
        "* Modify `train`:\n",
        ">* Change the name of the input parameter `training_reviews` to `training_reviews_raw`. This will help with the next step.\n",
        ">* At the beginning of the function, you'll want to preprocess your reviews to convert them to a list of indices (from `word2index`) that are actually used in the review. This is equivalent to what you saw in the video when Andrew set specific indices to 1. Your code should create a local `list` variable named `training_reviews` that should contain a `list` for each review in `training_reviews_raw`. Those lists should contain the indices for words found in the review.\n",
        ">* Remove call to `update_input_layer`\n",
        ">* Use `self`'s  `layer_1` instead of a local `layer_1` object.\n",
        ">* In the forward pass, replace the code that updates `layer_1` with new logic that only adds the weights for the indices used in the review.\n",
        ">* When updating `weights_0_1`, only update the individual weights that were used in the forward pass.\n",
        "* Modify `run`:\n",
        ">* Remove call to `update_input_layer` \n",
        ">* Use `self`'s  `layer_1` instead of a local `layer_1` object.\n",
        ">* Much like you did in `train`, you will need to pre-process the `review` so you can work with word indices, then update `layer_1` by adding weights for the indices used in the review."
      ]
    },
    {
      "cell_type": "code",
      "metadata": {
        "id": "y7SY0MbmaitU",
        "colab_type": "code",
        "colab": {}
      },
      "source": [
        "# TODO: -Copy the SentimentNetwork class from Project 4 lesson\n",
        "#       -Modify it according to the above instructions \n",
        "\n",
        "# Encapsulate our neural network in a class\n",
        "class SentimentNetwork:\n",
        "    def __init__(self, reviews, labels, hidden_nodes = 10, learning_rate = 0.1):\n",
        "        \"\"\"Create a SentimenNetwork with the given settings\n",
        "        Args:\n",
        "            reviews(list) - List of reviews used for training\n",
        "            labels(list) - List of POSITIVE/NEGATIVE labels associated with the given reviews\n",
        "            hidden_nodes(int) - Number of nodes to create in the hidden layer\n",
        "            learning_rate(float) - Learning rate to use while training\n",
        "        \n",
        "        \"\"\"\n",
        "        # Assign a seed to our random number generator to ensure we get\n",
        "        # reproducable results during development \n",
        "        np.random.seed(1)\n",
        "\n",
        "        # process the reviews and their associated labels so that everything\n",
        "        # is ready for training\n",
        "        self.pre_process_data(reviews, labels)\n",
        "        \n",
        "        # Build the network to have the number of hidden nodes and the learning rate that\n",
        "        # were passed into this initializer. Make the same number of input nodes as\n",
        "        # there are vocabulary words and create a single output node.\n",
        "        self.init_network(len(self.review_vocab),hidden_nodes, 1, learning_rate)\n",
        "\n",
        "    def pre_process_data(self, reviews, labels):\n",
        "        \n",
        "        review_vocab = set()\n",
        "        # TODO: populate review_vocab with all of the words in the given reviews\n",
        "        #       Remember to split reviews into individual words \n",
        "        #       using \"split(' ')\" instead of \"split()\".\n",
        "        for review in reviews:\n",
        "            for word in review.split(' '):\n",
        "                review_vocab.add(word)\n",
        "                \n",
        "        # Convert the vocabulary set to a list so we can access words via indices\n",
        "        self.review_vocab = list(review_vocab)\n",
        "        \n",
        "        label_vocab = set()\n",
        "        # TODO: populate label_vocab with all of the words in the given labels.\n",
        "        #       There is no need to split the labels because each one is a single word.\n",
        "        for label in labels:\n",
        "            label_vocab.add(label)\n",
        "        \n",
        "        # Convert the label vocabulary set to a list so we can access labels via indices\n",
        "        self.label_vocab = list(label_vocab)\n",
        "        \n",
        "        # Store the sizes of the review and label vocabularies.\n",
        "        self.review_vocab_size = len(self.review_vocab)\n",
        "        self.label_vocab_size = len(self.label_vocab)\n",
        "        \n",
        "        # Create a dictionary of words in the vocabulary mapped to index positions\n",
        "        self.word2index = {}\n",
        "        # TODO: populate self.word2index with indices for all the words in self.review_vocab\n",
        "        #       like you saw earlier in the notebook\n",
        "        for i,word in enumerate(self.review_vocab):\n",
        "            self.word2index[word] = i\n",
        "        \n",
        "        # Create a dictionary of labels mapped to index positions\n",
        "        self.label2index = {}\n",
        "        # TODO: do the same thing you did for self.word2index and self.review_vocab, \n",
        "        #       but for self.label2index and self.label_vocab instead\n",
        "        for i,label in enumerate(self.label_vocab):\n",
        "            self.label2index[word] = i\n",
        "         \n",
        "    def init_network(self, input_nodes, hidden_nodes, output_nodes, learning_rate):\n",
        "        # Store the number of nodes in input, hidden, and output layers.\n",
        "        self.input_nodes = input_nodes\n",
        "        self.hidden_nodes = hidden_nodes\n",
        "        self.output_nodes = output_nodes\n",
        "\n",
        "        # Store the learning rate\n",
        "        self.learning_rate = learning_rate\n",
        "\n",
        "        # Initialize weights\n",
        "        \n",
        "        # TODO: initialize self.weights_0_1 as a matrix of zeros. These are the weights between\n",
        "        #       the input layer and the hidden layer.\n",
        "        self.weights_0_1 = np.zeros((input_nodes, hidden_nodes))\n",
        "        \n",
        "        # TODO: initialize self.weights_1_2 as a matrix of random values. \n",
        "        #       These are the weights between the hidden layer and the output layer.\n",
        "        self.weights_1_2 = np.random.normal(0.0, hidden_nodes**-0.5, (hidden_nodes, output_nodes))\n",
        "        \n",
        "        # TODO: Create the input layer, a two-dimensional matrix with shape \n",
        "        #       1 x input_nodes, with all values initialized to zero\n",
        "        self.layer_0 = np.zeros((1,input_nodes))\n",
        "    \n",
        "        \n",
        "    def update_input_layer(self,review):\n",
        "        # TODO: You can copy most of the code you wrote for update_input_layer \n",
        "        #       earlier in this notebook. \n",
        "        #\n",
        "        #       However, MAKE SURE YOU CHANGE ALL VARIABLES TO REFERENCE\n",
        "        #       THE VERSIONS STORED IN THIS OBJECT, NOT THE GLOBAL OBJECTS.\n",
        "        #       For example, replace \"layer_0 *= 0\" with \"self.layer_0 *= 0\"\n",
        "        \n",
        "        self.layer_0 *= 0\n",
        "        \n",
        "        for word in review.split(' '):\n",
        "            if (word in self.word2index.keys()):\n",
        "                self.layer_0[0][self.word2index[word]] = 1\n",
        "     \n",
        "    def get_target_for_label(self,label):\n",
        "        # TODO: Copy the code you wrote for get_target_for_label \n",
        "        #       earlier in this notebook. \n",
        "        if(label == 'POSITIVE'):\n",
        "            return 1\n",
        "        else:\n",
        "            return 0\n",
        "        \n",
        "    def sigmoid(self,x):\n",
        "        # TODO: Return the result of calculating the sigmoid activation function\n",
        "        #       shown in the lectures\n",
        "        return 1 / (1 + np.exp(-x))\n",
        "    \n",
        "    def sigmoid_output_2_derivative(self,output):\n",
        "        # TODO: Return the derivative of the sigmoid activation function, \n",
        "        #       where \"output\" is the original output from the sigmoid fucntion \n",
        "        return output * (1 - output)\n",
        "\n",
        "    def train(self, training_reviews_raw, training_labels):\n",
        "        \n",
        "        training_reviews = list()\n",
        "        for review in training_reviews_raw:\n",
        "          indices = set()\n",
        "          for word in review.split(' '):\n",
        "            if(word in self.word2index.keys()):\n",
        "              indices.add(self.word2index[word])\n",
        "          training_reviews.append(list(indices))\n",
        "        \n",
        "        # make sure out we have a matching number of reviews and labels\n",
        "        assert(len(training_reviews) == len(training_labels))\n",
        "        \n",
        "        # Keep track of correct predictions to display accuracy during training \n",
        "        correct_so_far = 0\n",
        "        \n",
        "        # Remember when we started for printing time statistics\n",
        "        start = time.time()\n",
        "\n",
        "        # loop through all the given reviews and run a forward and backward pass,\n",
        "        # updating weights for every item\n",
        "        for i in range(len(training_reviews)):\n",
        "            \n",
        "            # TODO: Get the next review and its correct label\n",
        "            review = training_reviews[i]\n",
        "            label = training_labels[i]\n",
        "            # TODO: Implement the forward pass through the network. \n",
        "            #       That means use the given review to update the input layer, \n",
        "            #       then calculate values for the hidden layer,\n",
        "            #       and finally calculate the output layer.\n",
        "            # \n",
        "            #       Do not use an activation function for the hidden layer,\n",
        "            #       but use the sigmoid activation function for the output layer.\n",
        "            self.update_input_layer(review)\n",
        "            layer_1 = self.layer_0.dot(self.weights_0_1)\n",
        "            layer_2 = self.sigmoid(layer_1.dot(self.weights_1_2))\n",
        "            \n",
        "            # TODO: Implement the back propagation pass here. \n",
        "            #       That means calculate the error for the forward pass's prediction\n",
        "            #       and update the weights in the network according to their\n",
        "            #       contributions toward the error, as calculated via the\n",
        "            #       gradient descent and back propagation algorithms you \n",
        "            #       learned in class.\n",
        "            layer_2_error = layer_2 - self.get_target_for_label(label)\n",
        "            layer_2_delta = layer_2_error * self.sigmoid_output_2_derivative(layer_2)\n",
        "            \n",
        "            layer_1_error = layer_2_delta.dot(self.weights_1_2.T)\n",
        "            layer_1_delta = layer_1_error\n",
        "            \n",
        "            self.weights_1_2 -= layer_1.T.dot(layer_2_delta) * self.learning_rate\n",
        "            self.weights_0_1 -= self.layer_0.T.dot(layer_1_delta) * self.learning_rate            \n",
        "            \n",
        "            # TODO: Keep track of correct predictions. To determine if the prediction was\n",
        "            #       correct, check that the absolute value of the output error \n",
        "            #       is less than 0.5. If so, add one to the correct_so_far count.\n",
        "            if(np.abs(layer_2_error) < 0.5):\n",
        "                correct_so_far += 1                \n",
        "            \n",
        "            # For debug purposes, print out our prediction accuracy and speed \n",
        "            # throughout the training process. \n",
        "\n",
        "            elapsed_time = float(time.time() - start)\n",
        "            reviews_per_second = i / elapsed_time if elapsed_time > 0 else 0\n",
        "            \n",
        "            sys.stdout.write(\"\\rProgress:\" + str(100 * i/float(len(training_reviews)))[:4] \\\n",
        "                             + \"% Speed(reviews/sec):\" + str(reviews_per_second)[0:5] \\\n",
        "                             + \" #Correct:\" + str(correct_so_far) + \" #Trained:\" + str(i+1) \\\n",
        "                             + \" Training Accuracy:\" + str(correct_so_far * 100 / float(i+1))[:4] + \"%\")\n",
        "            if(i % 2500 == 0):\n",
        "                print(\"\")\n",
        "    \n",
        "    def test(self, testing_reviews, testing_labels):\n",
        "        \"\"\"\n",
        "        Attempts to predict the labels for the given testing_reviews,\n",
        "        and uses the test_labels to calculate the accuracy of those predictions.\n",
        "        \"\"\"\n",
        "        \n",
        "        # keep track of how many correct predictions we make\n",
        "        correct = 0\n",
        "\n",
        "        # we'll time how many predictions per second we make\n",
        "        start = time.time()\n",
        "\n",
        "        # Loop through each of the given reviews and call run to predict\n",
        "        # its label. \n",
        "        for i in range(len(testing_reviews)):\n",
        "            pred = self.run(testing_reviews[i])\n",
        "            if(pred == testing_labels[i]):\n",
        "                correct += 1\n",
        "            \n",
        "            # For debug purposes, print out our prediction accuracy and speed \n",
        "            # throughout the prediction process. \n",
        "\n",
        "            elapsed_time = float(time.time() - start)\n",
        "            reviews_per_second = i / elapsed_time if elapsed_time > 0 else 0\n",
        "            \n",
        "            sys.stdout.write(\"\\rProgress:\" + str(100 * i/float(len(testing_reviews)))[:4] \\\n",
        "                             + \"% Speed(reviews/sec):\" + str(reviews_per_second)[0:5] \\\n",
        "                             + \" #Correct:\" + str(correct) + \" #Tested:\" + str(i+1) \\\n",
        "                             + \" Testing Accuracy:\" + str(correct * 100 / float(i+1))[:4] + \"%\")\n",
        "    \n",
        "    def run(self, review):\n",
        "        \"\"\"\n",
        "        Returns a POSITIVE or NEGATIVE prediction for the given review.\n",
        "        \"\"\"\n",
        "        # TODO: Run a forward pass through the network, like you did in the\n",
        "        #       \"train\" function. That means use the given review to \n",
        "        #       update the input layer, then calculate values for the hidden layer,\n",
        "        #       and finally calculate the output layer.\n",
        "        #\n",
        "        #       Note: The review passed into this function for prediction \n",
        "        #             might come from anywhere, so you should convert it \n",
        "        #             to lower case prior to using it.\n",
        "        self.update_input_layer(review.lower())\n",
        "        layer1 = self.layer_0.dot(self.weights_0_1)\n",
        "        layer2 = layer1.dot(self.weights_1_2)\n",
        "        \n",
        "        # TODO: The output layer should now contain a prediction. \n",
        "        #       Return `POSITIVE` for predictions greater-than-or-equal-to `0.5`, \n",
        "        #       and `NEGATIVE` otherwise.\n",
        "        if (layer2[0] > 0.5):\n",
        "            return 'POSITIVE'\n",
        "        else:\n",
        "            return 'NEGATIVE'\n"
      ],
      "execution_count": 0,
      "outputs": []
    },
    {
      "cell_type": "markdown",
      "metadata": {
        "id": "OAdvnjVNaitX",
        "colab_type": "text"
      },
      "source": [
        "Run the following cell to recreate the network and train it once again."
      ]
    },
    {
      "cell_type": "code",
      "metadata": {
        "id": "AJxf1qbpaitY",
        "colab_type": "code",
        "colab": {}
      },
      "source": [
        "mlp = SentimentNetwork(reviews[:-1000],labels[:-1000], learning_rate=0.1)\n",
        "mlp.train(reviews[:-1000],labels[:-1000])"
      ],
      "execution_count": 0,
      "outputs": []
    },
    {
      "cell_type": "markdown",
      "metadata": {
        "id": "9Xa5bFZ7aitZ",
        "colab_type": "text"
      },
      "source": [
        "That should have trained much better than the earlier attempts. Run the following cell to test your model with 1000 predictions."
      ]
    },
    {
      "cell_type": "code",
      "metadata": {
        "id": "rrqVPA6baita",
        "colab_type": "code",
        "colab": {}
      },
      "source": [
        "mlp.test(reviews[-1000:],labels[-1000:])"
      ],
      "execution_count": 0,
      "outputs": []
    },
    {
      "cell_type": "markdown",
      "metadata": {
        "id": "YFMOHjRoaitb",
        "colab_type": "text"
      },
      "source": [
        "# End of Project 5. \n",
        "## Watch the next video to see Andrew's solution, then continue on to the next lesson.\n",
        "# Further Noise Reduction<a id='lesson_6'></a>"
      ]
    },
    {
      "cell_type": "code",
      "metadata": {
        "collapsed": true,
        "id": "OGQiRvhbaitb",
        "colab_type": "code",
        "colab": {}
      },
      "source": [
        "Image(filename='sentiment_network_sparse_2.png')"
      ],
      "execution_count": 0,
      "outputs": []
    },
    {
      "cell_type": "code",
      "metadata": {
        "collapsed": true,
        "id": "q817HPJGaitg",
        "colab_type": "code",
        "colab": {}
      },
      "source": [
        "# words most frequently seen in a review with a \"POSITIVE\" label\n",
        "pos_neg_ratios.most_common()"
      ],
      "execution_count": 0,
      "outputs": []
    },
    {
      "cell_type": "code",
      "metadata": {
        "collapsed": true,
        "id": "wbA0tPx5aiti",
        "colab_type": "code",
        "colab": {}
      },
      "source": [
        "# words most frequently seen in a review with a \"NEGATIVE\" label\n",
        "list(reversed(pos_neg_ratios.most_common()))[0:30]"
      ],
      "execution_count": 0,
      "outputs": []
    },
    {
      "cell_type": "code",
      "metadata": {
        "collapsed": true,
        "id": "dSXGf-YIaitk",
        "colab_type": "code",
        "colab": {}
      },
      "source": [
        "from bokeh.models import ColumnDataSource, LabelSet\n",
        "from bokeh.plotting import figure, show, output_file\n",
        "from bokeh.io import output_notebook\n",
        "output_notebook()"
      ],
      "execution_count": 0,
      "outputs": []
    },
    {
      "cell_type": "code",
      "metadata": {
        "collapsed": true,
        "id": "L5RDTvb9aitp",
        "colab_type": "code",
        "colab": {}
      },
      "source": [
        "hist, edges = np.histogram(list(map(lambda x:x[1],pos_neg_ratios.most_common())), density=True, bins=100, normed=True)\n",
        "\n",
        "p = figure(tools=\"pan,wheel_zoom,reset,save\",\n",
        "           toolbar_location=\"above\",\n",
        "           title=\"Word Positive/Negative Affinity Distribution\")\n",
        "p.quad(top=hist, bottom=0, left=edges[:-1], right=edges[1:], line_color=\"#555555\")\n",
        "show(p)"
      ],
      "execution_count": 0,
      "outputs": []
    },
    {
      "cell_type": "code",
      "metadata": {
        "collapsed": true,
        "id": "WJ0jsK2raitr",
        "colab_type": "code",
        "colab": {}
      },
      "source": [
        "frequency_frequency = Counter()\n",
        "\n",
        "for word, cnt in total_counts.most_common():\n",
        "    frequency_frequency[cnt] += 1"
      ],
      "execution_count": 0,
      "outputs": []
    },
    {
      "cell_type": "code",
      "metadata": {
        "collapsed": true,
        "id": "WnaAvkbcaitx",
        "colab_type": "code",
        "colab": {}
      },
      "source": [
        "hist, edges = np.histogram(list(map(lambda x:x[1],frequency_frequency.most_common())), density=True, bins=100, normed=True)\n",
        "\n",
        "p = figure(tools=\"pan,wheel_zoom,reset,save\",\n",
        "           toolbar_location=\"above\",\n",
        "           title=\"The frequency distribution of the words in our corpus\")\n",
        "p.quad(top=hist, bottom=0, left=edges[:-1], right=edges[1:], line_color=\"#555555\")\n",
        "show(p)"
      ],
      "execution_count": 0,
      "outputs": []
    },
    {
      "cell_type": "markdown",
      "metadata": {
        "id": "OZ0Ev8A-aitz",
        "colab_type": "text"
      },
      "source": [
        "# Project 6: Reducing Noise by Strategically Reducing the Vocabulary<a id='project_6'></a>\n",
        "\n",
        "**TODO:** Improve `SentimentNetwork`'s performance by reducing more noise in the vocabulary. Specifically, do the following:\n",
        "* Copy the `SentimentNetwork` class from the previous project into the following cell.\n",
        "* Modify `pre_process_data`:\n",
        ">* Add two additional parameters: `min_count` and `polarity_cutoff`\n",
        ">* Calculate the positive-to-negative ratios of words used in the reviews. (You can use code you've written elsewhere in the notebook, but we are moving it into the class like we did with other helper code earlier.)\n",
        ">* Andrew's solution only calculates a postive-to-negative ratio for words that occur at least 50 times. This keeps the network from attributing too much sentiment to rarer words. You can choose to add this to your solution if you would like.  \n",
        ">* Change so words are only added to the vocabulary if they occur in the vocabulary more than `min_count` times.\n",
        ">* Change so words are only added to the vocabulary if the absolute value of their postive-to-negative ratio is at least `polarity_cutoff`\n",
        "* Modify `__init__`:\n",
        ">* Add the same two parameters (`min_count` and `polarity_cutoff`) and use them when you call `pre_process_data`"
      ]
    },
    {
      "cell_type": "code",
      "metadata": {
        "collapsed": true,
        "id": "39EtzzKcaitz",
        "colab_type": "code",
        "colab": {}
      },
      "source": [
        "# TODO: -Copy the SentimentNetwork class from Project 5 lesson\n",
        "#       -Modify it according to the above instructions "
      ],
      "execution_count": 0,
      "outputs": []
    },
    {
      "cell_type": "markdown",
      "metadata": {
        "id": "S7ntWoikait1",
        "colab_type": "text"
      },
      "source": [
        "Run the following cell to train your network with a small polarity cutoff."
      ]
    },
    {
      "cell_type": "code",
      "metadata": {
        "collapsed": true,
        "id": "Oja1h5xUait1",
        "colab_type": "code",
        "colab": {}
      },
      "source": [
        "mlp = SentimentNetwork(reviews[:-1000],labels[:-1000],min_count=20,polarity_cutoff=0.05,learning_rate=0.01)\n",
        "mlp.train(reviews[:-1000],labels[:-1000])"
      ],
      "execution_count": 0,
      "outputs": []
    },
    {
      "cell_type": "markdown",
      "metadata": {
        "id": "2bl2ulu8ait4",
        "colab_type": "text"
      },
      "source": [
        "And run the following cell to test it's performance. It should be "
      ]
    },
    {
      "cell_type": "code",
      "metadata": {
        "collapsed": true,
        "id": "RX1vR3t4ait4",
        "colab_type": "code",
        "colab": {}
      },
      "source": [
        "mlp.test(reviews[-1000:],labels[-1000:])"
      ],
      "execution_count": 0,
      "outputs": []
    },
    {
      "cell_type": "markdown",
      "metadata": {
        "id": "zkNXawQkait6",
        "colab_type": "text"
      },
      "source": [
        "Run the following cell to train your network with a much larger polarity cutoff."
      ]
    },
    {
      "cell_type": "code",
      "metadata": {
        "collapsed": true,
        "id": "cLsAdWcVait7",
        "colab_type": "code",
        "colab": {}
      },
      "source": [
        "mlp = SentimentNetwork(reviews[:-1000],labels[:-1000],min_count=20,polarity_cutoff=0.8,learning_rate=0.01)\n",
        "mlp.train(reviews[:-1000],labels[:-1000])"
      ],
      "execution_count": 0,
      "outputs": []
    },
    {
      "cell_type": "markdown",
      "metadata": {
        "id": "bR_iuXSHait-",
        "colab_type": "text"
      },
      "source": [
        "And run the following cell to test it's performance."
      ]
    },
    {
      "cell_type": "code",
      "metadata": {
        "collapsed": true,
        "id": "7cViHCkiait-",
        "colab_type": "code",
        "colab": {}
      },
      "source": [
        "mlp.test(reviews[-1000:],labels[-1000:])"
      ],
      "execution_count": 0,
      "outputs": []
    },
    {
      "cell_type": "markdown",
      "metadata": {
        "id": "48PrQmObait_",
        "colab_type": "text"
      },
      "source": [
        "# End of Project 6. \n",
        "## Watch the next video to see Andrew's solution, then continue on to the next lesson."
      ]
    },
    {
      "cell_type": "markdown",
      "metadata": {
        "collapsed": true,
        "id": "GErBOoh8ait_",
        "colab_type": "text"
      },
      "source": [
        "# Analysis: What's Going on in the Weights?<a id='lesson_7'></a>"
      ]
    },
    {
      "cell_type": "code",
      "metadata": {
        "collapsed": true,
        "id": "4q11eNfKaiuA",
        "colab_type": "code",
        "colab": {}
      },
      "source": [
        "mlp_full = SentimentNetwork(reviews[:-1000],labels[:-1000],min_count=0,polarity_cutoff=0,learning_rate=0.01)"
      ],
      "execution_count": 0,
      "outputs": []
    },
    {
      "cell_type": "code",
      "metadata": {
        "collapsed": true,
        "id": "I-AzFr6EaiuB",
        "colab_type": "code",
        "colab": {}
      },
      "source": [
        "mlp_full.train(reviews[:-1000],labels[:-1000])"
      ],
      "execution_count": 0,
      "outputs": []
    },
    {
      "cell_type": "code",
      "metadata": {
        "collapsed": true,
        "id": "5UQw3EyeaiuC",
        "colab_type": "code",
        "colab": {}
      },
      "source": [
        "Image(filename='sentiment_network_sparse.png')"
      ],
      "execution_count": 0,
      "outputs": []
    },
    {
      "cell_type": "code",
      "metadata": {
        "collapsed": true,
        "id": "zwk3qq7taiuD",
        "colab_type": "code",
        "colab": {}
      },
      "source": [
        "def get_most_similar_words(focus = \"horrible\"):\n",
        "    most_similar = Counter()\n",
        "\n",
        "    for word in mlp_full.word2index.keys():\n",
        "        most_similar[word] = np.dot(mlp_full.weights_0_1[mlp_full.word2index[word]],mlp_full.weights_0_1[mlp_full.word2index[focus]])\n",
        "    \n",
        "    return most_similar.most_common()"
      ],
      "execution_count": 0,
      "outputs": []
    },
    {
      "cell_type": "code",
      "metadata": {
        "collapsed": true,
        "id": "hEgXnxJtaiuE",
        "colab_type": "code",
        "colab": {}
      },
      "source": [
        "get_most_similar_words(\"excellent\")"
      ],
      "execution_count": 0,
      "outputs": []
    },
    {
      "cell_type": "code",
      "metadata": {
        "collapsed": true,
        "id": "Kj7-og8VaiuF",
        "colab_type": "code",
        "colab": {}
      },
      "source": [
        "get_most_similar_words(\"terrible\")"
      ],
      "execution_count": 0,
      "outputs": []
    },
    {
      "cell_type": "code",
      "metadata": {
        "collapsed": true,
        "id": "Ihl7y-MaaiuG",
        "colab_type": "code",
        "colab": {}
      },
      "source": [
        "import matplotlib.colors as colors\n",
        "\n",
        "words_to_visualize = list()\n",
        "for word, ratio in pos_neg_ratios.most_common(500):\n",
        "    if(word in mlp_full.word2index.keys()):\n",
        "        words_to_visualize.append(word)\n",
        "    \n",
        "for word, ratio in list(reversed(pos_neg_ratios.most_common()))[0:500]:\n",
        "    if(word in mlp_full.word2index.keys()):\n",
        "        words_to_visualize.append(word)"
      ],
      "execution_count": 0,
      "outputs": []
    },
    {
      "cell_type": "code",
      "metadata": {
        "collapsed": true,
        "id": "aGwCnFHlaiuH",
        "colab_type": "code",
        "colab": {}
      },
      "source": [
        "pos = 0\n",
        "neg = 0\n",
        "\n",
        "colors_list = list()\n",
        "vectors_list = list()\n",
        "for word in words_to_visualize:\n",
        "    if word in pos_neg_ratios.keys():\n",
        "        vectors_list.append(mlp_full.weights_0_1[mlp_full.word2index[word]])\n",
        "        if(pos_neg_ratios[word] > 0):\n",
        "            pos+=1\n",
        "            colors_list.append(\"#00ff00\")\n",
        "        else:\n",
        "            neg+=1\n",
        "            colors_list.append(\"#000000\")"
      ],
      "execution_count": 0,
      "outputs": []
    },
    {
      "cell_type": "code",
      "metadata": {
        "collapsed": true,
        "id": "VcL29gXHaiuI",
        "colab_type": "code",
        "colab": {}
      },
      "source": [
        "from sklearn.manifold import TSNE\n",
        "tsne = TSNE(n_components=2, random_state=0)\n",
        "words_top_ted_tsne = tsne.fit_transform(vectors_list)"
      ],
      "execution_count": 0,
      "outputs": []
    },
    {
      "cell_type": "code",
      "metadata": {
        "collapsed": true,
        "id": "_LxcQJe8aiuJ",
        "colab_type": "code",
        "colab": {}
      },
      "source": [
        "p = figure(tools=\"pan,wheel_zoom,reset,save\",\n",
        "           toolbar_location=\"above\",\n",
        "           title=\"vector T-SNE for most polarized words\")\n",
        "\n",
        "source = ColumnDataSource(data=dict(x1=words_top_ted_tsne[:,0],\n",
        "                                    x2=words_top_ted_tsne[:,1],\n",
        "                                    names=words_to_visualize,\n",
        "                                    color=colors_list))\n",
        "\n",
        "p.scatter(x=\"x1\", y=\"x2\", size=8, source=source, fill_color=\"color\")\n",
        "\n",
        "word_labels = LabelSet(x=\"x1\", y=\"x2\", text=\"names\", y_offset=6,\n",
        "                  text_font_size=\"8pt\", text_color=\"#555555\",\n",
        "                  source=source, text_align='center')\n",
        "p.add_layout(word_labels)\n",
        "\n",
        "show(p)\n",
        "\n",
        "# green indicates positive words, black indicates negative words"
      ],
      "execution_count": 0,
      "outputs": []
    }
  ]
}